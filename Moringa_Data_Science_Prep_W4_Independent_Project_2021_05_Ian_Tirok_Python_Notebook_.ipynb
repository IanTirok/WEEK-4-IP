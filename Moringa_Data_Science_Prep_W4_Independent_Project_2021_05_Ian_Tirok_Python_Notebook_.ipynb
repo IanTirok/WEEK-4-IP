{
  "nbformat": 4,
  "nbformat_minor": 0,
  "metadata": {
    "colab": {
      "name": "Moringa_Data_Science_Prep_W4_Independent_Project_2021_05_Ian_Tirok_Python_Notebook_.ipynb",
      "provenance": [],
      "collapsed_sections": [],
      "authorship_tag": "ABX9TyN7J1O3XCW6cb3nZx8Essue",
      "include_colab_link": true
    },
    "kernelspec": {
      "display_name": "Python 3",
      "name": "python3"
    },
    "language_info": {
      "name": "python"
    }
  },
  "cells": [
    {
      "cell_type": "markdown",
      "metadata": {
        "id": "view-in-github",
        "colab_type": "text"
      },
      "source": [
        "<a href=\"https://colab.research.google.com/github/IanTirok/WEEK-4-IP/blob/main/Moringa_Data_Science_Prep_W4_Independent_Project_2021_05_Ian_Tirok_Python_Notebook_.ipynb\" target=\"_parent\"><img src=\"https://colab.research.google.com/assets/colab-badge.svg\" alt=\"Open In Colab\"/></a>"
      ]
    },
    {
      "cell_type": "markdown",
      "metadata": {
        "id": "2KMGLNBi74rv"
      },
      "source": [
        "\n",
        "In this week's independent project, you will be working as a data scientist working for an electric car-sharing service company. You have been tasked to process stations data to understand electric car usage over time by solving for the following research question;\n",
        "\n",
        "Research Questions\n",
        "\n",
        "\n",
        "1. Identify the most popular hour of the day for picking\n",
        "up a shared electric car (Bluecar) in the city of Paris over the month of April 2018.\n",
        "\n",
        "2. What is the most popular hour for returning cars?\n",
        "What station is the most popular?\n",
        "Overall?\n",
        "3. At the most popular picking hour?\n",
        "What postal code is the most popular for picking up Blue cars? \n",
        "4. Does the most popular station belong to that postal code?\n",
        "Overall?\n",
        "5. At the most popular picking hour?\n",
        "\n"
      ]
    },
    {
      "cell_type": "markdown",
      "metadata": {
        "id": "JkCn3IHM7Prb"
      },
      "source": [
        " **1. IMPORTING LIBRARIES**\n",
        "\n",
        "\n"
      ]
    },
    {
      "cell_type": "code",
      "metadata": {
        "id": "oE_1yQq64t5y"
      },
      "source": [
        "import pandas as pd\n",
        "\n",
        "import numpy as np"
      ],
      "execution_count": null,
      "outputs": []
    },
    {
      "cell_type": "markdown",
      "metadata": {
        "id": "XLi659rt9FrO"
      },
      "source": [
        "**2. LOADING OUR DATASETS**"
      ]
    },
    {
      "cell_type": "code",
      "metadata": {
        "colab": {
          "base_uri": "https://localhost:8080/",
          "height": 215
        },
        "id": "8_GccHdY9M48",
        "outputId": "9652a41f-c45e-4de2-c0a0-33984f0f7c22"
      },
      "source": [
        "\n",
        "url = 'http://bit.ly/autolib_dataset'\n",
        "\n",
        "df = pd.read_csv(url, index_col = 0, dtype = {'year':str,'month':str,'day':str,'hour':str,'minute':str })\n",
        "\n",
        "df.head(1)"
      ],
      "execution_count": null,
      "outputs": [
        {
          "output_type": "execute_result",
          "data": {
            "text/html": [
              "<div>\n",
              "<style scoped>\n",
              "    .dataframe tbody tr th:only-of-type {\n",
              "        vertical-align: middle;\n",
              "    }\n",
              "\n",
              "    .dataframe tbody tr th {\n",
              "        vertical-align: top;\n",
              "    }\n",
              "\n",
              "    .dataframe thead th {\n",
              "        text-align: right;\n",
              "    }\n",
              "</style>\n",
              "<table border=\"1\" class=\"dataframe\">\n",
              "  <thead>\n",
              "    <tr style=\"text-align: right;\">\n",
              "      <th></th>\n",
              "      <th>Cars</th>\n",
              "      <th>Bluecar counter</th>\n",
              "      <th>Utilib counter</th>\n",
              "      <th>Utilib 1.4 counter</th>\n",
              "      <th>Charge Slots</th>\n",
              "      <th>Charging Status</th>\n",
              "      <th>City</th>\n",
              "      <th>Displayed comment</th>\n",
              "      <th>ID</th>\n",
              "      <th>Kind</th>\n",
              "      <th>Geo point</th>\n",
              "      <th>Postal code</th>\n",
              "      <th>Public name</th>\n",
              "      <th>Rental status</th>\n",
              "      <th>Scheduled at</th>\n",
              "      <th>Slots</th>\n",
              "      <th>Station type</th>\n",
              "      <th>Status</th>\n",
              "      <th>Subscription status</th>\n",
              "      <th>year</th>\n",
              "      <th>month</th>\n",
              "      <th>day</th>\n",
              "      <th>hour</th>\n",
              "      <th>minute</th>\n",
              "    </tr>\n",
              "    <tr>\n",
              "      <th>Address</th>\n",
              "      <th></th>\n",
              "      <th></th>\n",
              "      <th></th>\n",
              "      <th></th>\n",
              "      <th></th>\n",
              "      <th></th>\n",
              "      <th></th>\n",
              "      <th></th>\n",
              "      <th></th>\n",
              "      <th></th>\n",
              "      <th></th>\n",
              "      <th></th>\n",
              "      <th></th>\n",
              "      <th></th>\n",
              "      <th></th>\n",
              "      <th></th>\n",
              "      <th></th>\n",
              "      <th></th>\n",
              "      <th></th>\n",
              "      <th></th>\n",
              "      <th></th>\n",
              "      <th></th>\n",
              "      <th></th>\n",
              "      <th></th>\n",
              "    </tr>\n",
              "  </thead>\n",
              "  <tbody>\n",
              "    <tr>\n",
              "      <th>2 Avenue de Suffren</th>\n",
              "      <td>0</td>\n",
              "      <td>0</td>\n",
              "      <td>0</td>\n",
              "      <td>0</td>\n",
              "      <td>0</td>\n",
              "      <td>nonexistent</td>\n",
              "      <td>Paris</td>\n",
              "      <td>NaN</td>\n",
              "      <td>paris-suffren-2</td>\n",
              "      <td>STATION</td>\n",
              "      <td>48.857, 2.2917</td>\n",
              "      <td>75015</td>\n",
              "      <td>Paris/Suffren/2</td>\n",
              "      <td>operational</td>\n",
              "      <td>NaN</td>\n",
              "      <td>2</td>\n",
              "      <td>station</td>\n",
              "      <td>ok</td>\n",
              "      <td>nonexistent</td>\n",
              "      <td>2018</td>\n",
              "      <td>4</td>\n",
              "      <td>8</td>\n",
              "      <td>11</td>\n",
              "      <td>43</td>\n",
              "    </tr>\n",
              "  </tbody>\n",
              "</table>\n",
              "</div>"
            ],
            "text/plain": [
              "                     Cars  Bluecar counter  Utilib counter  ...  day  hour minute\n",
              "Address                                                     ...                  \n",
              "2 Avenue de Suffren     0                0               0  ...    8    11     43\n",
              "\n",
              "[1 rows x 24 columns]"
            ]
          },
          "metadata": {
            "tags": []
          },
          "execution_count": 132
        }
      ]
    },
    {
      "cell_type": "markdown",
      "metadata": {
        "id": "kjqX9tSDTF83"
      },
      "source": [
        "**3. GETTING MORE INFORMATION ABOUT OUR DATASET**. "
      ]
    },
    {
      "cell_type": "code",
      "metadata": {
        "id": "cJG4EkL29p8v",
        "colab": {
          "base_uri": "https://localhost:8080/"
        },
        "outputId": "c4959e1d-72ba-4bcb-cefb-6a8a5d541ce0"
      },
      "source": [
        "df.info()"
      ],
      "execution_count": null,
      "outputs": [
        {
          "output_type": "stream",
          "text": [
            "<class 'pandas.core.frame.DataFrame'>\n",
            "Index: 5000 entries, 2 Avenue de Suffren to 5 Rue Henry Brisson\n",
            "Data columns (total 24 columns):\n",
            " #   Column               Non-Null Count  Dtype \n",
            "---  ------               --------------  ----- \n",
            " 0   Cars                 5000 non-null   int64 \n",
            " 1   Bluecar counter      5000 non-null   int64 \n",
            " 2   Utilib counter       5000 non-null   int64 \n",
            " 3   Utilib 1.4 counter   5000 non-null   int64 \n",
            " 4   Charge Slots         5000 non-null   int64 \n",
            " 5   Charging Status      5000 non-null   object\n",
            " 6   City                 5000 non-null   object\n",
            " 7   Displayed comment    111 non-null    object\n",
            " 8   ID                   5000 non-null   object\n",
            " 9   Kind                 5000 non-null   object\n",
            " 10  Geo point            5000 non-null   object\n",
            " 11  Postal code          5000 non-null   int64 \n",
            " 12  Public name          5000 non-null   object\n",
            " 13  Rental status        5000 non-null   object\n",
            " 14  Scheduled at         47 non-null     object\n",
            " 15  Slots                5000 non-null   int64 \n",
            " 16  Station type         5000 non-null   object\n",
            " 17  Status               5000 non-null   object\n",
            " 18  Subscription status  5000 non-null   object\n",
            " 19  year                 5000 non-null   object\n",
            " 20  month                5000 non-null   object\n",
            " 21  day                  5000 non-null   object\n",
            " 22  hour                 5000 non-null   object\n",
            " 23  minute               5000 non-null   object\n",
            "dtypes: int64(7), object(17)\n",
            "memory usage: 976.6+ KB\n"
          ],
          "name": "stdout"
        }
      ]
    },
    {
      "cell_type": "code",
      "metadata": {
        "colab": {
          "base_uri": "https://localhost:8080/"
        },
        "id": "yQpVS3dnUKCl",
        "outputId": "30c4dd2b-053b-4b85-bd2b-de5538f74582"
      },
      "source": [
        "df.shape"
      ],
      "execution_count": null,
      "outputs": [
        {
          "output_type": "execute_result",
          "data": {
            "text/plain": [
              "(5000, 24)"
            ]
          },
          "metadata": {
            "tags": []
          },
          "execution_count": 134
        }
      ]
    },
    {
      "cell_type": "code",
      "metadata": {
        "colab": {
          "base_uri": "https://localhost:8080/"
        },
        "id": "pgUecmQiXq7O",
        "outputId": "68f330b5-f760-406e-e62d-8a8c08fce767"
      },
      "source": [
        "df.count()"
      ],
      "execution_count": null,
      "outputs": [
        {
          "output_type": "execute_result",
          "data": {
            "text/plain": [
              "Cars                   5000\n",
              "Bluecar counter        5000\n",
              "Utilib counter         5000\n",
              "Utilib 1.4 counter     5000\n",
              "Charge Slots           5000\n",
              "Charging Status        5000\n",
              "City                   5000\n",
              "Displayed comment       111\n",
              "ID                     5000\n",
              "Kind                   5000\n",
              "Geo point              5000\n",
              "Postal code            5000\n",
              "Public name            5000\n",
              "Rental status          5000\n",
              "Scheduled at             47\n",
              "Slots                  5000\n",
              "Station type           5000\n",
              "Status                 5000\n",
              "Subscription status    5000\n",
              "year                   5000\n",
              "month                  5000\n",
              "day                    5000\n",
              "hour                   5000\n",
              "minute                 5000\n",
              "dtype: int64"
            ]
          },
          "metadata": {
            "tags": []
          },
          "execution_count": 135
        }
      ]
    },
    {
      "cell_type": "code",
      "metadata": {
        "colab": {
          "base_uri": "https://localhost:8080/"
        },
        "id": "i2IvQVILZubF",
        "outputId": "3b21f268-043a-4771-b67c-8f377c62db8d"
      },
      "source": [
        "#finding out how many empty or null values are there in a table\n",
        "ab = df.shape[0]\n",
        "bc = ab - df.count() \n",
        "bc"
      ],
      "execution_count": null,
      "outputs": [
        {
          "output_type": "execute_result",
          "data": {
            "text/plain": [
              "Cars                      0\n",
              "Bluecar counter           0\n",
              "Utilib counter            0\n",
              "Utilib 1.4 counter        0\n",
              "Charge Slots              0\n",
              "Charging Status           0\n",
              "City                      0\n",
              "Displayed comment      4889\n",
              "ID                        0\n",
              "Kind                      0\n",
              "Geo point                 0\n",
              "Postal code               0\n",
              "Public name               0\n",
              "Rental status             0\n",
              "Scheduled at           4953\n",
              "Slots                     0\n",
              "Station type              0\n",
              "Status                    0\n",
              "Subscription status       0\n",
              "year                      0\n",
              "month                     0\n",
              "day                       0\n",
              "hour                      0\n",
              "minute                    0\n",
              "dtype: int64"
            ]
          },
          "metadata": {
            "tags": []
          },
          "execution_count": 136
        }
      ]
    },
    {
      "cell_type": "markdown",
      "metadata": {
        "id": "VAEM_RwVUUXp"
      },
      "source": [
        "**4. RE-DEFINING THE COLLUMNS**"
      ]
    },
    {
      "cell_type": "code",
      "metadata": {
        "colab": {
          "base_uri": "https://localhost:8080/",
          "height": 326
        },
        "id": "WNoSJPg8UgrJ",
        "outputId": "0486a3dd-b0e5-4d2f-ddd0-23af36a89ea6"
      },
      "source": [
        "#Converting the year, month, day, minute, hour, date collumns to datemonth datatype\n",
        "\n",
        "df['date'] = df.year.str.cat([df.month,df.day], sep = '/')\n",
        "\n",
        "df['time'] = df.hour.str.cat([df.minute], sep = ':')\n",
        "\n",
        "df['date_time'] = df.date.str.cat([df.time], sep = ' ')\n",
        "\n",
        "df.drop(['year','month',\t'day', 'minute','hour',\t'date',\t'time'],axis = 1, inplace = True)\n",
        "\n",
        "df.head(3)\n"
      ],
      "execution_count": null,
      "outputs": [
        {
          "output_type": "execute_result",
          "data": {
            "text/html": [
              "<div>\n",
              "<style scoped>\n",
              "    .dataframe tbody tr th:only-of-type {\n",
              "        vertical-align: middle;\n",
              "    }\n",
              "\n",
              "    .dataframe tbody tr th {\n",
              "        vertical-align: top;\n",
              "    }\n",
              "\n",
              "    .dataframe thead th {\n",
              "        text-align: right;\n",
              "    }\n",
              "</style>\n",
              "<table border=\"1\" class=\"dataframe\">\n",
              "  <thead>\n",
              "    <tr style=\"text-align: right;\">\n",
              "      <th></th>\n",
              "      <th>Cars</th>\n",
              "      <th>Bluecar counter</th>\n",
              "      <th>Utilib counter</th>\n",
              "      <th>Utilib 1.4 counter</th>\n",
              "      <th>Charge Slots</th>\n",
              "      <th>Charging Status</th>\n",
              "      <th>City</th>\n",
              "      <th>Displayed comment</th>\n",
              "      <th>ID</th>\n",
              "      <th>Kind</th>\n",
              "      <th>Geo point</th>\n",
              "      <th>Postal code</th>\n",
              "      <th>Public name</th>\n",
              "      <th>Rental status</th>\n",
              "      <th>Scheduled at</th>\n",
              "      <th>Slots</th>\n",
              "      <th>Station type</th>\n",
              "      <th>Status</th>\n",
              "      <th>Subscription status</th>\n",
              "      <th>date_time</th>\n",
              "    </tr>\n",
              "    <tr>\n",
              "      <th>Address</th>\n",
              "      <th></th>\n",
              "      <th></th>\n",
              "      <th></th>\n",
              "      <th></th>\n",
              "      <th></th>\n",
              "      <th></th>\n",
              "      <th></th>\n",
              "      <th></th>\n",
              "      <th></th>\n",
              "      <th></th>\n",
              "      <th></th>\n",
              "      <th></th>\n",
              "      <th></th>\n",
              "      <th></th>\n",
              "      <th></th>\n",
              "      <th></th>\n",
              "      <th></th>\n",
              "      <th></th>\n",
              "      <th></th>\n",
              "      <th></th>\n",
              "    </tr>\n",
              "  </thead>\n",
              "  <tbody>\n",
              "    <tr>\n",
              "      <th>2 Avenue de Suffren</th>\n",
              "      <td>0</td>\n",
              "      <td>0</td>\n",
              "      <td>0</td>\n",
              "      <td>0</td>\n",
              "      <td>0</td>\n",
              "      <td>nonexistent</td>\n",
              "      <td>Paris</td>\n",
              "      <td>NaN</td>\n",
              "      <td>paris-suffren-2</td>\n",
              "      <td>STATION</td>\n",
              "      <td>48.857, 2.2917</td>\n",
              "      <td>75015</td>\n",
              "      <td>Paris/Suffren/2</td>\n",
              "      <td>operational</td>\n",
              "      <td>NaN</td>\n",
              "      <td>2</td>\n",
              "      <td>station</td>\n",
              "      <td>ok</td>\n",
              "      <td>nonexistent</td>\n",
              "      <td>2018/4/8 11:43</td>\n",
              "    </tr>\n",
              "    <tr>\n",
              "      <th>145 Rue Raymond Losserand</th>\n",
              "      <td>6</td>\n",
              "      <td>6</td>\n",
              "      <td>0</td>\n",
              "      <td>0</td>\n",
              "      <td>0</td>\n",
              "      <td>operational</td>\n",
              "      <td>Paris</td>\n",
              "      <td>NaN</td>\n",
              "      <td>paris-raymondlosserand-145</td>\n",
              "      <td>STATION</td>\n",
              "      <td>48.83126, 2.313088</td>\n",
              "      <td>75014</td>\n",
              "      <td>Paris/Raymond Losserand/145</td>\n",
              "      <td>operational</td>\n",
              "      <td>NaN</td>\n",
              "      <td>0</td>\n",
              "      <td>station</td>\n",
              "      <td>ok</td>\n",
              "      <td>nonexistent</td>\n",
              "      <td>2018/4/6 7:24</td>\n",
              "    </tr>\n",
              "    <tr>\n",
              "      <th>2 Avenue John Fitzgerald Kennedy</th>\n",
              "      <td>3</td>\n",
              "      <td>3</td>\n",
              "      <td>0</td>\n",
              "      <td>2</td>\n",
              "      <td>0</td>\n",
              "      <td>operational</td>\n",
              "      <td>Le Bourget</td>\n",
              "      <td>NaN</td>\n",
              "      <td>lebourget-johnfitzgeraldkennedy-2</td>\n",
              "      <td>STATION</td>\n",
              "      <td>48.938103, 2.4286035</td>\n",
              "      <td>93350</td>\n",
              "      <td>Le Bourget/John Fitzgerald Kennedy/2</td>\n",
              "      <td>operational</td>\n",
              "      <td>NaN</td>\n",
              "      <td>1</td>\n",
              "      <td>station</td>\n",
              "      <td>ok</td>\n",
              "      <td>nonexistent</td>\n",
              "      <td>2018/4/3 20:14</td>\n",
              "    </tr>\n",
              "  </tbody>\n",
              "</table>\n",
              "</div>"
            ],
            "text/plain": [
              "                                  Cars  ...       date_time\n",
              "Address                                 ...                \n",
              "2 Avenue de Suffren                  0  ...  2018/4/8 11:43\n",
              "145 Rue Raymond Losserand            6  ...   2018/4/6 7:24\n",
              "2 Avenue John Fitzgerald Kennedy     3  ...  2018/4/3 20:14\n",
              "\n",
              "[3 rows x 20 columns]"
            ]
          },
          "metadata": {
            "tags": []
          },
          "execution_count": 137
        }
      ]
    },
    {
      "cell_type": "markdown",
      "metadata": {
        "id": "BnlwMqg5XAoI"
      },
      "source": [
        "**5. CLEANING THE DATA**"
      ]
    },
    {
      "cell_type": "code",
      "metadata": {
        "colab": {
          "base_uri": "https://localhost:8080/",
          "height": 438
        },
        "id": "lv9j7DXjWpKc",
        "outputId": "26772658-0888-4f02-bc74-1b4c6b756021"
      },
      "source": [
        "#Changing collumns to lowercase to stardadize collumn names\n",
        "\n",
        "df.columns = map(str.lower, df.columns)\n",
        "columns = ['cars', 'bluecar_counter', 'utilib_counter', 'utilib_1.4_counter','charge_slots', 'charging_status', 'city', 'displayed_comment', 'id', 'kind','geo_point',\n",
        "           'postal_code','public_name', 'rental_status','scheduled_at','slots','station_type','status','subscription_status','date_time']\n",
        "df.columns = columns\n",
        "df.head()"
      ],
      "execution_count": null,
      "outputs": [
        {
          "output_type": "execute_result",
          "data": {
            "text/html": [
              "<div>\n",
              "<style scoped>\n",
              "    .dataframe tbody tr th:only-of-type {\n",
              "        vertical-align: middle;\n",
              "    }\n",
              "\n",
              "    .dataframe tbody tr th {\n",
              "        vertical-align: top;\n",
              "    }\n",
              "\n",
              "    .dataframe thead th {\n",
              "        text-align: right;\n",
              "    }\n",
              "</style>\n",
              "<table border=\"1\" class=\"dataframe\">\n",
              "  <thead>\n",
              "    <tr style=\"text-align: right;\">\n",
              "      <th></th>\n",
              "      <th>cars</th>\n",
              "      <th>bluecar_counter</th>\n",
              "      <th>utilib_counter</th>\n",
              "      <th>utilib_1.4_counter</th>\n",
              "      <th>charge_slots</th>\n",
              "      <th>charging_status</th>\n",
              "      <th>city</th>\n",
              "      <th>displayed_comment</th>\n",
              "      <th>id</th>\n",
              "      <th>kind</th>\n",
              "      <th>geo_point</th>\n",
              "      <th>postal_code</th>\n",
              "      <th>public_name</th>\n",
              "      <th>rental_status</th>\n",
              "      <th>scheduled_at</th>\n",
              "      <th>slots</th>\n",
              "      <th>station_type</th>\n",
              "      <th>status</th>\n",
              "      <th>subscription_status</th>\n",
              "      <th>date_time</th>\n",
              "    </tr>\n",
              "    <tr>\n",
              "      <th>Address</th>\n",
              "      <th></th>\n",
              "      <th></th>\n",
              "      <th></th>\n",
              "      <th></th>\n",
              "      <th></th>\n",
              "      <th></th>\n",
              "      <th></th>\n",
              "      <th></th>\n",
              "      <th></th>\n",
              "      <th></th>\n",
              "      <th></th>\n",
              "      <th></th>\n",
              "      <th></th>\n",
              "      <th></th>\n",
              "      <th></th>\n",
              "      <th></th>\n",
              "      <th></th>\n",
              "      <th></th>\n",
              "      <th></th>\n",
              "      <th></th>\n",
              "    </tr>\n",
              "  </thead>\n",
              "  <tbody>\n",
              "    <tr>\n",
              "      <th>2 Avenue de Suffren</th>\n",
              "      <td>0</td>\n",
              "      <td>0</td>\n",
              "      <td>0</td>\n",
              "      <td>0</td>\n",
              "      <td>0</td>\n",
              "      <td>nonexistent</td>\n",
              "      <td>Paris</td>\n",
              "      <td>NaN</td>\n",
              "      <td>paris-suffren-2</td>\n",
              "      <td>STATION</td>\n",
              "      <td>48.857, 2.2917</td>\n",
              "      <td>75015</td>\n",
              "      <td>Paris/Suffren/2</td>\n",
              "      <td>operational</td>\n",
              "      <td>NaN</td>\n",
              "      <td>2</td>\n",
              "      <td>station</td>\n",
              "      <td>ok</td>\n",
              "      <td>nonexistent</td>\n",
              "      <td>2018/4/8 11:43</td>\n",
              "    </tr>\n",
              "    <tr>\n",
              "      <th>145 Rue Raymond Losserand</th>\n",
              "      <td>6</td>\n",
              "      <td>6</td>\n",
              "      <td>0</td>\n",
              "      <td>0</td>\n",
              "      <td>0</td>\n",
              "      <td>operational</td>\n",
              "      <td>Paris</td>\n",
              "      <td>NaN</td>\n",
              "      <td>paris-raymondlosserand-145</td>\n",
              "      <td>STATION</td>\n",
              "      <td>48.83126, 2.313088</td>\n",
              "      <td>75014</td>\n",
              "      <td>Paris/Raymond Losserand/145</td>\n",
              "      <td>operational</td>\n",
              "      <td>NaN</td>\n",
              "      <td>0</td>\n",
              "      <td>station</td>\n",
              "      <td>ok</td>\n",
              "      <td>nonexistent</td>\n",
              "      <td>2018/4/6 7:24</td>\n",
              "    </tr>\n",
              "    <tr>\n",
              "      <th>2 Avenue John Fitzgerald Kennedy</th>\n",
              "      <td>3</td>\n",
              "      <td>3</td>\n",
              "      <td>0</td>\n",
              "      <td>2</td>\n",
              "      <td>0</td>\n",
              "      <td>operational</td>\n",
              "      <td>Le Bourget</td>\n",
              "      <td>NaN</td>\n",
              "      <td>lebourget-johnfitzgeraldkennedy-2</td>\n",
              "      <td>STATION</td>\n",
              "      <td>48.938103, 2.4286035</td>\n",
              "      <td>93350</td>\n",
              "      <td>Le Bourget/John Fitzgerald Kennedy/2</td>\n",
              "      <td>operational</td>\n",
              "      <td>NaN</td>\n",
              "      <td>1</td>\n",
              "      <td>station</td>\n",
              "      <td>ok</td>\n",
              "      <td>nonexistent</td>\n",
              "      <td>2018/4/3 20:14</td>\n",
              "    </tr>\n",
              "    <tr>\n",
              "      <th>51 Rue EugÃ¨ne OudinÃ©</th>\n",
              "      <td>3</td>\n",
              "      <td>3</td>\n",
              "      <td>1</td>\n",
              "      <td>0</td>\n",
              "      <td>1</td>\n",
              "      <td>operational</td>\n",
              "      <td>Paris</td>\n",
              "      <td>NaN</td>\n",
              "      <td>paris-eugeneoudine-51</td>\n",
              "      <td>STATION</td>\n",
              "      <td>48.8250327, 2.3725162</td>\n",
              "      <td>75013</td>\n",
              "      <td>Paris/EugÃ¨ne OudinÃ©/51</td>\n",
              "      <td>operational</td>\n",
              "      <td>NaN</td>\n",
              "      <td>2</td>\n",
              "      <td>station</td>\n",
              "      <td>ok</td>\n",
              "      <td>nonexistent</td>\n",
              "      <td>2018/4/4 4:37</td>\n",
              "    </tr>\n",
              "    <tr>\n",
              "      <th>6 avenue de la Porte de Champerret</th>\n",
              "      <td>3</td>\n",
              "      <td>3</td>\n",
              "      <td>0</td>\n",
              "      <td>0</td>\n",
              "      <td>0</td>\n",
              "      <td>nonexistent</td>\n",
              "      <td>Paris</td>\n",
              "      <td>NaN</td>\n",
              "      <td>paris-portedechamperret-6</td>\n",
              "      <td>PARKING</td>\n",
              "      <td>48.8862632, 2.2874511</td>\n",
              "      <td>75017</td>\n",
              "      <td>Paris/Porte de Champerret/6</td>\n",
              "      <td>operational</td>\n",
              "      <td>NaN</td>\n",
              "      <td>3</td>\n",
              "      <td>station</td>\n",
              "      <td>ok</td>\n",
              "      <td>nonexistent</td>\n",
              "      <td>2018/4/8 17:23</td>\n",
              "    </tr>\n",
              "  </tbody>\n",
              "</table>\n",
              "</div>"
            ],
            "text/plain": [
              "                                    cars  ...       date_time\n",
              "Address                                   ...                \n",
              "2 Avenue de Suffren                    0  ...  2018/4/8 11:43\n",
              "145 Rue Raymond Losserand              6  ...   2018/4/6 7:24\n",
              "2 Avenue John Fitzgerald Kennedy       3  ...  2018/4/3 20:14\n",
              "51 Rue EugÃ¨ne OudinÃ©                 3  ...   2018/4/4 4:37\n",
              "6 avenue de la Porte de Champerret     3  ...  2018/4/8 17:23\n",
              "\n",
              "[5 rows x 20 columns]"
            ]
          },
          "metadata": {
            "tags": []
          },
          "execution_count": 138
        }
      ]
    },
    {
      "cell_type": "code",
      "metadata": {
        "colab": {
          "base_uri": "https://localhost:8080/"
        },
        "id": "2N-kZO_Jdk9S",
        "outputId": "1d950087-9e41-43e8-a065-be39c306ef4e"
      },
      "source": [
        "#lets see the shape of the table now\n",
        "df.shape"
      ],
      "execution_count": null,
      "outputs": [
        {
          "output_type": "execute_result",
          "data": {
            "text/plain": [
              "(5000, 20)"
            ]
          },
          "metadata": {
            "tags": []
          },
          "execution_count": 139
        }
      ]
    },
    {
      "cell_type": "code",
      "metadata": {
        "colab": {
          "base_uri": "https://localhost:8080/"
        },
        "id": "xgx9E5Q1RsaV",
        "outputId": "d3f99d9c-1d6f-4e70-81dd-36e6f76c61ec"
      },
      "source": [
        "#Removing the closed or broken stations\n",
        "\n",
        "df = df[df['status'] == 'ok']\n",
        "\n",
        "df.shape"
      ],
      "execution_count": null,
      "outputs": [
        {
          "output_type": "execute_result",
          "data": {
            "text/plain": [
              "(4623, 20)"
            ]
          },
          "metadata": {
            "tags": []
          },
          "execution_count": 145
        }
      ]
    },
    {
      "cell_type": "code",
      "metadata": {
        "colab": {
          "base_uri": "https://localhost:8080/",
          "height": 768
        },
        "id": "aPI53cSjcVFS",
        "outputId": "1bcb6a00-dc84-4203-f70a-3f2817ab0f8a"
      },
      "source": [
        "#dropping duplicates\n",
        "df.drop_duplicates()\n",
        "df"
      ],
      "execution_count": null,
      "outputs": [
        {
          "output_type": "execute_result",
          "data": {
            "text/html": [
              "<div>\n",
              "<style scoped>\n",
              "    .dataframe tbody tr th:only-of-type {\n",
              "        vertical-align: middle;\n",
              "    }\n",
              "\n",
              "    .dataframe tbody tr th {\n",
              "        vertical-align: top;\n",
              "    }\n",
              "\n",
              "    .dataframe thead th {\n",
              "        text-align: right;\n",
              "    }\n",
              "</style>\n",
              "<table border=\"1\" class=\"dataframe\">\n",
              "  <thead>\n",
              "    <tr style=\"text-align: right;\">\n",
              "      <th></th>\n",
              "      <th>cars</th>\n",
              "      <th>bluecar_counter</th>\n",
              "      <th>utilib_counter</th>\n",
              "      <th>utilib_1.4_counter</th>\n",
              "      <th>charge_slots</th>\n",
              "      <th>charging_status</th>\n",
              "      <th>city</th>\n",
              "      <th>displayed_comment</th>\n",
              "      <th>id</th>\n",
              "      <th>kind</th>\n",
              "      <th>geo_point</th>\n",
              "      <th>postal_code</th>\n",
              "      <th>public_name</th>\n",
              "      <th>rental_status</th>\n",
              "      <th>scheduled_at</th>\n",
              "      <th>slots</th>\n",
              "      <th>station_type</th>\n",
              "      <th>status</th>\n",
              "      <th>subscription_status</th>\n",
              "      <th>date_time</th>\n",
              "    </tr>\n",
              "    <tr>\n",
              "      <th>Address</th>\n",
              "      <th></th>\n",
              "      <th></th>\n",
              "      <th></th>\n",
              "      <th></th>\n",
              "      <th></th>\n",
              "      <th></th>\n",
              "      <th></th>\n",
              "      <th></th>\n",
              "      <th></th>\n",
              "      <th></th>\n",
              "      <th></th>\n",
              "      <th></th>\n",
              "      <th></th>\n",
              "      <th></th>\n",
              "      <th></th>\n",
              "      <th></th>\n",
              "      <th></th>\n",
              "      <th></th>\n",
              "      <th></th>\n",
              "      <th></th>\n",
              "    </tr>\n",
              "  </thead>\n",
              "  <tbody>\n",
              "    <tr>\n",
              "      <th>2 Avenue de Suffren</th>\n",
              "      <td>0</td>\n",
              "      <td>0</td>\n",
              "      <td>0</td>\n",
              "      <td>0</td>\n",
              "      <td>0</td>\n",
              "      <td>nonexistent</td>\n",
              "      <td>Paris</td>\n",
              "      <td>NaN</td>\n",
              "      <td>paris-suffren-2</td>\n",
              "      <td>STATION</td>\n",
              "      <td>48.857, 2.2917</td>\n",
              "      <td>75015</td>\n",
              "      <td>Paris/Suffren/2</td>\n",
              "      <td>operational</td>\n",
              "      <td>NaN</td>\n",
              "      <td>2</td>\n",
              "      <td>station</td>\n",
              "      <td>ok</td>\n",
              "      <td>nonexistent</td>\n",
              "      <td>2018/4/8 11:43</td>\n",
              "    </tr>\n",
              "    <tr>\n",
              "      <th>145 Rue Raymond Losserand</th>\n",
              "      <td>6</td>\n",
              "      <td>6</td>\n",
              "      <td>0</td>\n",
              "      <td>0</td>\n",
              "      <td>0</td>\n",
              "      <td>operational</td>\n",
              "      <td>Paris</td>\n",
              "      <td>NaN</td>\n",
              "      <td>paris-raymondlosserand-145</td>\n",
              "      <td>STATION</td>\n",
              "      <td>48.83126, 2.313088</td>\n",
              "      <td>75014</td>\n",
              "      <td>Paris/Raymond Losserand/145</td>\n",
              "      <td>operational</td>\n",
              "      <td>NaN</td>\n",
              "      <td>0</td>\n",
              "      <td>station</td>\n",
              "      <td>ok</td>\n",
              "      <td>nonexistent</td>\n",
              "      <td>2018/4/6 7:24</td>\n",
              "    </tr>\n",
              "    <tr>\n",
              "      <th>2 Avenue John Fitzgerald Kennedy</th>\n",
              "      <td>3</td>\n",
              "      <td>3</td>\n",
              "      <td>0</td>\n",
              "      <td>2</td>\n",
              "      <td>0</td>\n",
              "      <td>operational</td>\n",
              "      <td>Le Bourget</td>\n",
              "      <td>NaN</td>\n",
              "      <td>lebourget-johnfitzgeraldkennedy-2</td>\n",
              "      <td>STATION</td>\n",
              "      <td>48.938103, 2.4286035</td>\n",
              "      <td>93350</td>\n",
              "      <td>Le Bourget/John Fitzgerald Kennedy/2</td>\n",
              "      <td>operational</td>\n",
              "      <td>NaN</td>\n",
              "      <td>1</td>\n",
              "      <td>station</td>\n",
              "      <td>ok</td>\n",
              "      <td>nonexistent</td>\n",
              "      <td>2018/4/3 20:14</td>\n",
              "    </tr>\n",
              "    <tr>\n",
              "      <th>51 Rue EugÃ¨ne OudinÃ©</th>\n",
              "      <td>3</td>\n",
              "      <td>3</td>\n",
              "      <td>1</td>\n",
              "      <td>0</td>\n",
              "      <td>1</td>\n",
              "      <td>operational</td>\n",
              "      <td>Paris</td>\n",
              "      <td>NaN</td>\n",
              "      <td>paris-eugeneoudine-51</td>\n",
              "      <td>STATION</td>\n",
              "      <td>48.8250327, 2.3725162</td>\n",
              "      <td>75013</td>\n",
              "      <td>Paris/EugÃ¨ne OudinÃ©/51</td>\n",
              "      <td>operational</td>\n",
              "      <td>NaN</td>\n",
              "      <td>2</td>\n",
              "      <td>station</td>\n",
              "      <td>ok</td>\n",
              "      <td>nonexistent</td>\n",
              "      <td>2018/4/4 4:37</td>\n",
              "    </tr>\n",
              "    <tr>\n",
              "      <th>6 avenue de la Porte de Champerret</th>\n",
              "      <td>3</td>\n",
              "      <td>3</td>\n",
              "      <td>0</td>\n",
              "      <td>0</td>\n",
              "      <td>0</td>\n",
              "      <td>nonexistent</td>\n",
              "      <td>Paris</td>\n",
              "      <td>NaN</td>\n",
              "      <td>paris-portedechamperret-6</td>\n",
              "      <td>PARKING</td>\n",
              "      <td>48.8862632, 2.2874511</td>\n",
              "      <td>75017</td>\n",
              "      <td>Paris/Porte de Champerret/6</td>\n",
              "      <td>operational</td>\n",
              "      <td>NaN</td>\n",
              "      <td>3</td>\n",
              "      <td>station</td>\n",
              "      <td>ok</td>\n",
              "      <td>nonexistent</td>\n",
              "      <td>2018/4/8 17:23</td>\n",
              "    </tr>\n",
              "    <tr>\n",
              "      <th>...</th>\n",
              "      <td>...</td>\n",
              "      <td>...</td>\n",
              "      <td>...</td>\n",
              "      <td>...</td>\n",
              "      <td>...</td>\n",
              "      <td>...</td>\n",
              "      <td>...</td>\n",
              "      <td>...</td>\n",
              "      <td>...</td>\n",
              "      <td>...</td>\n",
              "      <td>...</td>\n",
              "      <td>...</td>\n",
              "      <td>...</td>\n",
              "      <td>...</td>\n",
              "      <td>...</td>\n",
              "      <td>...</td>\n",
              "      <td>...</td>\n",
              "      <td>...</td>\n",
              "      <td>...</td>\n",
              "      <td>...</td>\n",
              "    </tr>\n",
              "    <tr>\n",
              "      <th>8 avenue MÃ©nelotte</th>\n",
              "      <td>2</td>\n",
              "      <td>2</td>\n",
              "      <td>0</td>\n",
              "      <td>0</td>\n",
              "      <td>0</td>\n",
              "      <td>nonexistent</td>\n",
              "      <td>Colombes</td>\n",
              "      <td>NaN</td>\n",
              "      <td>colombes-menelotte-8</td>\n",
              "      <td>STATION</td>\n",
              "      <td>48.9246525, 2.259313</td>\n",
              "      <td>92700</td>\n",
              "      <td>Colombes/MÃ©nelotte/8</td>\n",
              "      <td>operational</td>\n",
              "      <td>NaN</td>\n",
              "      <td>3</td>\n",
              "      <td>station</td>\n",
              "      <td>ok</td>\n",
              "      <td>nonexistent</td>\n",
              "      <td>2018/4/6 11:26</td>\n",
              "    </tr>\n",
              "    <tr>\n",
              "      <th>37 rue de Dantzig</th>\n",
              "      <td>4</td>\n",
              "      <td>4</td>\n",
              "      <td>0</td>\n",
              "      <td>0</td>\n",
              "      <td>1</td>\n",
              "      <td>operational</td>\n",
              "      <td>Paris</td>\n",
              "      <td>NaN</td>\n",
              "      <td>paris-dantzig-37</td>\n",
              "      <td>STATION</td>\n",
              "      <td>48.8335103, 2.2987201</td>\n",
              "      <td>75015</td>\n",
              "      <td>Paris/Dantzig/37</td>\n",
              "      <td>operational</td>\n",
              "      <td>NaN</td>\n",
              "      <td>2</td>\n",
              "      <td>station</td>\n",
              "      <td>ok</td>\n",
              "      <td>nonexistent</td>\n",
              "      <td>2018/4/4 16:56</td>\n",
              "    </tr>\n",
              "    <tr>\n",
              "      <th>142 rue du Bac</th>\n",
              "      <td>1</td>\n",
              "      <td>1</td>\n",
              "      <td>0</td>\n",
              "      <td>0</td>\n",
              "      <td>1</td>\n",
              "      <td>operational</td>\n",
              "      <td>Paris</td>\n",
              "      <td>NaN</td>\n",
              "      <td>paris-bac-142</td>\n",
              "      <td>STATION</td>\n",
              "      <td>48.8508194, 2.3237968</td>\n",
              "      <td>75007</td>\n",
              "      <td>Paris/Bac/142</td>\n",
              "      <td>operational</td>\n",
              "      <td>NaN</td>\n",
              "      <td>4</td>\n",
              "      <td>station</td>\n",
              "      <td>ok</td>\n",
              "      <td>nonexistent</td>\n",
              "      <td>2018/4/1 7:1</td>\n",
              "    </tr>\n",
              "    <tr>\n",
              "      <th>2 avenue du Val de Fontenay</th>\n",
              "      <td>2</td>\n",
              "      <td>2</td>\n",
              "      <td>0</td>\n",
              "      <td>0</td>\n",
              "      <td>0</td>\n",
              "      <td>nonexistent</td>\n",
              "      <td>Fontenay-Sous-Bois</td>\n",
              "      <td>NaN</td>\n",
              "      <td>fontenaysousbois-valdefontenay-2</td>\n",
              "      <td>STATION</td>\n",
              "      <td>48.8528247, 2.4869085</td>\n",
              "      <td>94120</td>\n",
              "      <td>Fontenay-Sous-Bois/Val de Fontenay/2</td>\n",
              "      <td>operational</td>\n",
              "      <td>NaN</td>\n",
              "      <td>3</td>\n",
              "      <td>station</td>\n",
              "      <td>ok</td>\n",
              "      <td>nonexistent</td>\n",
              "      <td>2018/4/4 17:27</td>\n",
              "    </tr>\n",
              "    <tr>\n",
              "      <th>5 Rue Henry Brisson</th>\n",
              "      <td>4</td>\n",
              "      <td>4</td>\n",
              "      <td>0</td>\n",
              "      <td>0</td>\n",
              "      <td>0</td>\n",
              "      <td>operational</td>\n",
              "      <td>Paris</td>\n",
              "      <td>NaN</td>\n",
              "      <td>paris-henrybrisson-5</td>\n",
              "      <td>STATION</td>\n",
              "      <td>48.8984293, 2.3347923</td>\n",
              "      <td>75018</td>\n",
              "      <td>Paris/Henry Brisson/5</td>\n",
              "      <td>operational</td>\n",
              "      <td>NaN</td>\n",
              "      <td>0</td>\n",
              "      <td>station</td>\n",
              "      <td>ok</td>\n",
              "      <td>nonexistent</td>\n",
              "      <td>2018/4/8 10:2</td>\n",
              "    </tr>\n",
              "  </tbody>\n",
              "</table>\n",
              "<p>4623 rows × 20 columns</p>\n",
              "</div>"
            ],
            "text/plain": [
              "                                    cars  ...       date_time\n",
              "Address                                   ...                \n",
              "2 Avenue de Suffren                    0  ...  2018/4/8 11:43\n",
              "145 Rue Raymond Losserand              6  ...   2018/4/6 7:24\n",
              "2 Avenue John Fitzgerald Kennedy       3  ...  2018/4/3 20:14\n",
              "51 Rue EugÃ¨ne OudinÃ©                 3  ...   2018/4/4 4:37\n",
              "6 avenue de la Porte de Champerret     3  ...  2018/4/8 17:23\n",
              "...                                  ...  ...             ...\n",
              "8 avenue MÃ©nelotte                    2  ...  2018/4/6 11:26\n",
              "37 rue de Dantzig                      4  ...  2018/4/4 16:56\n",
              "142 rue du Bac                         1  ...    2018/4/1 7:1\n",
              "2 avenue du Val de Fontenay            2  ...  2018/4/4 17:27\n",
              "5 Rue Henry Brisson                    4  ...   2018/4/8 10:2\n",
              "\n",
              "[4623 rows x 20 columns]"
            ]
          },
          "metadata": {
            "tags": []
          },
          "execution_count": 146
        }
      ]
    },
    {
      "cell_type": "code",
      "metadata": {
        "colab": {
          "base_uri": "https://localhost:8080/"
        },
        "id": "CjDoFJp4dwNR",
        "outputId": "2fab1817-882f-4c79-997d-92e9d8d4408c"
      },
      "source": [
        "#dropping unnecesary columns\n",
        "df=df.drop(columns=['displayed_comment','public_name','scheduled_at' ,'geo_point','subscription_status'])\n",
        "df.shape"
      ],
      "execution_count": null,
      "outputs": [
        {
          "output_type": "execute_result",
          "data": {
            "text/plain": [
              "(4623, 15)"
            ]
          },
          "metadata": {
            "tags": []
          },
          "execution_count": 147
        }
      ]
    },
    {
      "cell_type": "code",
      "metadata": {
        "colab": {
          "base_uri": "https://localhost:8080/"
        },
        "id": "twflRHTnelID",
        "outputId": "3b5ab725-9e70-4c7d-e571-545a147cd0af"
      },
      "source": [
        "#check for null values\n",
        "df.isnull().sum()"
      ],
      "execution_count": null,
      "outputs": [
        {
          "output_type": "execute_result",
          "data": {
            "text/plain": [
              "cars                  0\n",
              "bluecar_counter       0\n",
              "utilib_counter        0\n",
              "utilib_1.4_counter    0\n",
              "charge_slots          0\n",
              "charging_status       0\n",
              "city                  0\n",
              "id                    0\n",
              "kind                  0\n",
              "postal_code           0\n",
              "rental_status         0\n",
              "slots                 0\n",
              "station_type          0\n",
              "status                0\n",
              "date_time             0\n",
              "dtype: int64"
            ]
          },
          "metadata": {
            "tags": []
          },
          "execution_count": 148
        }
      ]
    },
    {
      "cell_type": "code",
      "metadata": {
        "colab": {
          "base_uri": "https://localhost:8080/"
        },
        "id": "eEin4hTcg3Yz",
        "outputId": "71aa0c1a-552b-4db8-efc7-0b18cc9fb383"
      },
      "source": [
        "#check datatypes\n",
        "df.info()"
      ],
      "execution_count": null,
      "outputs": [
        {
          "output_type": "stream",
          "text": [
            "<class 'pandas.core.frame.DataFrame'>\n",
            "Index: 4623 entries, 2 Avenue de Suffren to 5 Rue Henry Brisson\n",
            "Data columns (total 15 columns):\n",
            " #   Column              Non-Null Count  Dtype \n",
            "---  ------              --------------  ----- \n",
            " 0   cars                4623 non-null   int64 \n",
            " 1   bluecar_counter     4623 non-null   int64 \n",
            " 2   utilib_counter      4623 non-null   int64 \n",
            " 3   utilib_1.4_counter  4623 non-null   int64 \n",
            " 4   charge_slots        4623 non-null   int64 \n",
            " 5   charging_status     4623 non-null   object\n",
            " 6   city                4623 non-null   object\n",
            " 7   id                  4623 non-null   object\n",
            " 8   kind                4623 non-null   object\n",
            " 9   postal_code         4623 non-null   int64 \n",
            " 10  rental_status       4623 non-null   object\n",
            " 11  slots               4623 non-null   int64 \n",
            " 12  station_type        4623 non-null   object\n",
            " 13  status              4623 non-null   object\n",
            " 14  date_time           4623 non-null   object\n",
            "dtypes: int64(7), object(8)\n",
            "memory usage: 577.9+ KB\n"
          ],
          "name": "stdout"
        }
      ]
    },
    {
      "cell_type": "code",
      "metadata": {
        "colab": {
          "base_uri": "https://localhost:8080/"
        },
        "id": "wps_DtookRux",
        "outputId": "a20c5b27-24dd-496b-91b2-fe4c59c19b97"
      },
      "source": [
        "df.count()"
      ],
      "execution_count": null,
      "outputs": [
        {
          "output_type": "execute_result",
          "data": {
            "text/plain": [
              "cars                  4623\n",
              "bluecar_counter       4623\n",
              "utilib_counter        4623\n",
              "utilib_1.4_counter    4623\n",
              "charge_slots          4623\n",
              "charging_status       4623\n",
              "city                  4623\n",
              "id                    4623\n",
              "kind                  4623\n",
              "postal_code           4623\n",
              "rental_status         4623\n",
              "slots                 4623\n",
              "station_type          4623\n",
              "status                4623\n",
              "date_time             4623\n",
              "dtype: int64"
            ]
          },
          "metadata": {
            "tags": []
          },
          "execution_count": 150
        }
      ]
    },
    {
      "cell_type": "markdown",
      "metadata": {
        "id": "ocBjOS7_giq-"
      },
      "source": [
        "from the output our data seems clean, no null values and no duplicates and we have standard names for all columns"
      ]
    },
    {
      "cell_type": "markdown",
      "metadata": {
        "id": "APXXOnfpk1LQ"
      },
      "source": [
        "**6. EXPORT CLEAN DATA**"
      ]
    },
    {
      "cell_type": "code",
      "metadata": {
        "id": "VXK6xuj1gW1R"
      },
      "source": [
        "df = df.to_csv('electric_car_data.csv')"
      ],
      "execution_count": null,
      "outputs": []
    },
    {
      "cell_type": "markdown",
      "metadata": {
        "id": "AZ_iVLqWths6"
      },
      "source": [
        "**7. DATA ANALYSIS**"
      ]
    },
    {
      "cell_type": "code",
      "metadata": {
        "colab": {
          "base_uri": "https://localhost:8080/",
          "height": 72
        },
        "id": "aOnq_TU2uK4G",
        "outputId": "423658ac-c396-4e50-990d-ac313ab56a11"
      },
      "source": [
        "%load_ext sql\n",
        "%sql sqlite://"
      ],
      "execution_count": null,
      "outputs": [
        {
          "output_type": "stream",
          "text": [
            "The sql extension is already loaded. To reload it, use:\n",
            "  %reload_ext sql\n"
          ],
          "name": "stdout"
        },
        {
          "output_type": "execute_result",
          "data": {
            "application/vnd.google.colaboratory.intrinsic+json": {
              "type": "string"
            },
            "text/plain": [
              "'Connected: @None'"
            ]
          },
          "metadata": {
            "tags": []
          },
          "execution_count": 152
        }
      ]
    },
    {
      "cell_type": "code",
      "metadata": {
        "colab": {
          "base_uri": "https://localhost:8080/",
          "height": 445
        },
        "id": "p5XFW5RMkzbe",
        "outputId": "fd06037b-0842-4192-91ce-bbe6f30356ed"
      },
      "source": [
        "with open('electric_car_data.csv','r') as f:\n",
        "    df2 = pd.read_csv(f, index_col=0, encoding='utf-8')\n",
        "%sql DROP TABLE if EXISTS df2;\n",
        "%sql PERSIST df2;\n",
        "\n",
        "%sql SELECT * FROM df2 LIMIT 5"
      ],
      "execution_count": null,
      "outputs": [
        {
          "output_type": "stream",
          "text": [
            " * sqlite://\n",
            "Done.\n",
            " * sqlite://\n",
            " * sqlite://\n",
            "Done.\n"
          ],
          "name": "stdout"
        },
        {
          "output_type": "execute_result",
          "data": {
            "text/html": [
              "<table>\n",
              "    <thead>\n",
              "        <tr>\n",
              "            <th>Address</th>\n",
              "            <th>cars</th>\n",
              "            <th>bluecar_counter</th>\n",
              "            <th>utilib_counter</th>\n",
              "            <th>utilib_1.4_counter</th>\n",
              "            <th>charge_slots</th>\n",
              "            <th>charging_status</th>\n",
              "            <th>city</th>\n",
              "            <th>id</th>\n",
              "            <th>kind</th>\n",
              "            <th>postal_code</th>\n",
              "            <th>rental_status</th>\n",
              "            <th>slots</th>\n",
              "            <th>station_type</th>\n",
              "            <th>status</th>\n",
              "            <th>date_time</th>\n",
              "        </tr>\n",
              "    </thead>\n",
              "    <tbody>\n",
              "        <tr>\n",
              "            <td>2 Avenue de Suffren</td>\n",
              "            <td>0</td>\n",
              "            <td>0</td>\n",
              "            <td>0</td>\n",
              "            <td>0</td>\n",
              "            <td>0</td>\n",
              "            <td>nonexistent</td>\n",
              "            <td>Paris</td>\n",
              "            <td>paris-suffren-2</td>\n",
              "            <td>STATION</td>\n",
              "            <td>75015</td>\n",
              "            <td>operational</td>\n",
              "            <td>2</td>\n",
              "            <td>station</td>\n",
              "            <td>ok</td>\n",
              "            <td>2018/4/8 11:43</td>\n",
              "        </tr>\n",
              "        <tr>\n",
              "            <td>145 Rue Raymond Losserand</td>\n",
              "            <td>6</td>\n",
              "            <td>6</td>\n",
              "            <td>0</td>\n",
              "            <td>0</td>\n",
              "            <td>0</td>\n",
              "            <td>operational</td>\n",
              "            <td>Paris</td>\n",
              "            <td>paris-raymondlosserand-145</td>\n",
              "            <td>STATION</td>\n",
              "            <td>75014</td>\n",
              "            <td>operational</td>\n",
              "            <td>0</td>\n",
              "            <td>station</td>\n",
              "            <td>ok</td>\n",
              "            <td>2018/4/6 7:24</td>\n",
              "        </tr>\n",
              "        <tr>\n",
              "            <td>2 Avenue John Fitzgerald Kennedy</td>\n",
              "            <td>3</td>\n",
              "            <td>3</td>\n",
              "            <td>0</td>\n",
              "            <td>2</td>\n",
              "            <td>0</td>\n",
              "            <td>operational</td>\n",
              "            <td>Le Bourget</td>\n",
              "            <td>lebourget-johnfitzgeraldkennedy-2</td>\n",
              "            <td>STATION</td>\n",
              "            <td>93350</td>\n",
              "            <td>operational</td>\n",
              "            <td>1</td>\n",
              "            <td>station</td>\n",
              "            <td>ok</td>\n",
              "            <td>2018/4/3 20:14</td>\n",
              "        </tr>\n",
              "        <tr>\n",
              "            <td>51 Rue EugÃ¨ne OudinÃ©</td>\n",
              "            <td>3</td>\n",
              "            <td>3</td>\n",
              "            <td>1</td>\n",
              "            <td>0</td>\n",
              "            <td>1</td>\n",
              "            <td>operational</td>\n",
              "            <td>Paris</td>\n",
              "            <td>paris-eugeneoudine-51</td>\n",
              "            <td>STATION</td>\n",
              "            <td>75013</td>\n",
              "            <td>operational</td>\n",
              "            <td>2</td>\n",
              "            <td>station</td>\n",
              "            <td>ok</td>\n",
              "            <td>2018/4/4 4:37</td>\n",
              "        </tr>\n",
              "        <tr>\n",
              "            <td>6 avenue de la Porte de Champerret</td>\n",
              "            <td>3</td>\n",
              "            <td>3</td>\n",
              "            <td>0</td>\n",
              "            <td>0</td>\n",
              "            <td>0</td>\n",
              "            <td>nonexistent</td>\n",
              "            <td>Paris</td>\n",
              "            <td>paris-portedechamperret-6</td>\n",
              "            <td>PARKING</td>\n",
              "            <td>75017</td>\n",
              "            <td>operational</td>\n",
              "            <td>3</td>\n",
              "            <td>station</td>\n",
              "            <td>ok</td>\n",
              "            <td>2018/4/8 17:23</td>\n",
              "        </tr>\n",
              "    </tbody>\n",
              "</table>"
            ],
            "text/plain": [
              "[('2 Avenue de Suffren', 0, 0, 0, 0, 0, 'nonexistent', 'Paris', 'paris-suffren-2', 'STATION', 75015, 'operational', 2, 'station', 'ok', '2018/4/8 11:43'),\n",
              " ('145 Rue Raymond Losserand', 6, 6, 0, 0, 0, 'operational', 'Paris', 'paris-raymondlosserand-145', 'STATION', 75014, 'operational', 0, 'station', 'ok', '2018/4/6 7:24'),\n",
              " ('2 Avenue John Fitzgerald Kennedy', 3, 3, 0, 2, 0, 'operational', 'Le Bourget', 'lebourget-johnfitzgeraldkennedy-2', 'STATION', 93350, 'operational', 1, 'station', 'ok', '2018/4/3 20:14'),\n",
              " ('51 Rue EugÃ¨ne OudinÃ©', 3, 3, 1, 0, 1, 'operational', 'Paris', 'paris-eugeneoudine-51', 'STATION', 75013, 'operational', 2, 'station', 'ok', '2018/4/4 4:37'),\n",
              " ('6 avenue de la Porte de Champerret', 3, 3, 0, 0, 0, 'nonexistent', 'Paris', 'paris-portedechamperret-6', 'PARKING', 75017, 'operational', 3, 'station', 'ok', '2018/4/8 17:23')]"
            ]
          },
          "metadata": {
            "tags": []
          },
          "execution_count": 153
        }
      ]
    },
    {
      "cell_type": "code",
      "metadata": {
        "id": "YfK5EEKit7k_"
      },
      "source": [
        "#convert date_time collumn to date time data type\n",
        "with open ('electric_car_data.csv', 'r') as f:\n",
        "  df2 = pd.read_csv(f, parse_dates = ['date_time'], infer_datetime_format = True, index_col = 0)"
      ],
      "execution_count": null,
      "outputs": []
    },
    {
      "cell_type": "code",
      "metadata": {
        "id": "LizztjBxuQ7B",
        "colab": {
          "base_uri": "https://localhost:8080/"
        },
        "outputId": "56484252-2143-4919-962b-aa30523fd514"
      },
      "source": [
        "#check that date_time collumn data type has changed to datetime data type\n",
        "df2.info()"
      ],
      "execution_count": null,
      "outputs": [
        {
          "output_type": "stream",
          "text": [
            "<class 'pandas.core.frame.DataFrame'>\n",
            "Index: 4623 entries, 2 Avenue de Suffren to 5 Rue Henry Brisson\n",
            "Data columns (total 15 columns):\n",
            " #   Column              Non-Null Count  Dtype         \n",
            "---  ------              --------------  -----         \n",
            " 0   cars                4623 non-null   int64         \n",
            " 1   bluecar_counter     4623 non-null   int64         \n",
            " 2   utilib_counter      4623 non-null   int64         \n",
            " 3   utilib_1.4_counter  4623 non-null   int64         \n",
            " 4   charge_slots        4623 non-null   int64         \n",
            " 5   charging_status     4623 non-null   object        \n",
            " 6   city                4623 non-null   object        \n",
            " 7   id                  4623 non-null   object        \n",
            " 8   kind                4623 non-null   object        \n",
            " 9   postal_code         4623 non-null   int64         \n",
            " 10  rental_status       4623 non-null   object        \n",
            " 11  slots               4623 non-null   int64         \n",
            " 12  station_type        4623 non-null   object        \n",
            " 13  status              4623 non-null   object        \n",
            " 14  date_time           4623 non-null   datetime64[ns]\n",
            "dtypes: datetime64[ns](1), int64(7), object(7)\n",
            "memory usage: 577.9+ KB\n"
          ],
          "name": "stdout"
        }
      ]
    },
    {
      "cell_type": "code",
      "metadata": {
        "colab": {
          "base_uri": "https://localhost:8080/",
          "height": 228
        },
        "id": "nPt-ayfWk9Yx",
        "outputId": "456cbed8-4af4-4b6c-fcea-66c48926dcb9"
      },
      "source": [
        "\n",
        "# What is the most popular hour for returning cars\n",
        "\n",
        "newdf = df2.filter(['city','bluecar_counter','date_time', 'postal_code', 'id','slots', 'kind', 'status'], axis=1)\n",
        "newdf.head()\n"
      ],
      "execution_count": null,
      "outputs": [
        {
          "output_type": "execute_result",
          "data": {
            "text/html": [
              "<div>\n",
              "<style scoped>\n",
              "    .dataframe tbody tr th:only-of-type {\n",
              "        vertical-align: middle;\n",
              "    }\n",
              "\n",
              "    .dataframe tbody tr th {\n",
              "        vertical-align: top;\n",
              "    }\n",
              "\n",
              "    .dataframe thead th {\n",
              "        text-align: right;\n",
              "    }\n",
              "</style>\n",
              "<table border=\"1\" class=\"dataframe\">\n",
              "  <thead>\n",
              "    <tr style=\"text-align: right;\">\n",
              "      <th></th>\n",
              "      <th>city</th>\n",
              "      <th>bluecar_counter</th>\n",
              "      <th>date_time</th>\n",
              "      <th>postal_code</th>\n",
              "      <th>id</th>\n",
              "      <th>slots</th>\n",
              "      <th>kind</th>\n",
              "      <th>status</th>\n",
              "    </tr>\n",
              "    <tr>\n",
              "      <th>Address</th>\n",
              "      <th></th>\n",
              "      <th></th>\n",
              "      <th></th>\n",
              "      <th></th>\n",
              "      <th></th>\n",
              "      <th></th>\n",
              "      <th></th>\n",
              "      <th></th>\n",
              "    </tr>\n",
              "  </thead>\n",
              "  <tbody>\n",
              "    <tr>\n",
              "      <th>2 Avenue de Suffren</th>\n",
              "      <td>Paris</td>\n",
              "      <td>0</td>\n",
              "      <td>2018-04-08 11:43:00</td>\n",
              "      <td>75015</td>\n",
              "      <td>paris-suffren-2</td>\n",
              "      <td>2</td>\n",
              "      <td>STATION</td>\n",
              "      <td>ok</td>\n",
              "    </tr>\n",
              "    <tr>\n",
              "      <th>145 Rue Raymond Losserand</th>\n",
              "      <td>Paris</td>\n",
              "      <td>6</td>\n",
              "      <td>2018-04-06 07:24:00</td>\n",
              "      <td>75014</td>\n",
              "      <td>paris-raymondlosserand-145</td>\n",
              "      <td>0</td>\n",
              "      <td>STATION</td>\n",
              "      <td>ok</td>\n",
              "    </tr>\n",
              "    <tr>\n",
              "      <th>2 Avenue John Fitzgerald Kennedy</th>\n",
              "      <td>Le Bourget</td>\n",
              "      <td>3</td>\n",
              "      <td>2018-04-03 20:14:00</td>\n",
              "      <td>93350</td>\n",
              "      <td>lebourget-johnfitzgeraldkennedy-2</td>\n",
              "      <td>1</td>\n",
              "      <td>STATION</td>\n",
              "      <td>ok</td>\n",
              "    </tr>\n",
              "    <tr>\n",
              "      <th>51 Rue EugÃ¨ne OudinÃ©</th>\n",
              "      <td>Paris</td>\n",
              "      <td>3</td>\n",
              "      <td>2018-04-04 04:37:00</td>\n",
              "      <td>75013</td>\n",
              "      <td>paris-eugeneoudine-51</td>\n",
              "      <td>2</td>\n",
              "      <td>STATION</td>\n",
              "      <td>ok</td>\n",
              "    </tr>\n",
              "    <tr>\n",
              "      <th>6 avenue de la Porte de Champerret</th>\n",
              "      <td>Paris</td>\n",
              "      <td>3</td>\n",
              "      <td>2018-04-08 17:23:00</td>\n",
              "      <td>75017</td>\n",
              "      <td>paris-portedechamperret-6</td>\n",
              "      <td>3</td>\n",
              "      <td>PARKING</td>\n",
              "      <td>ok</td>\n",
              "    </tr>\n",
              "  </tbody>\n",
              "</table>\n",
              "</div>"
            ],
            "text/plain": [
              "                                          city  bluecar_counter  ...     kind  status\n",
              "Address                                                          ...                 \n",
              "2 Avenue de Suffren                      Paris                0  ...  STATION      ok\n",
              "145 Rue Raymond Losserand                Paris                6  ...  STATION      ok\n",
              "2 Avenue John Fitzgerald Kennedy    Le Bourget                3  ...  STATION      ok\n",
              "51 Rue EugÃ¨ne OudinÃ©                   Paris                3  ...  STATION      ok\n",
              "6 avenue de la Porte de Champerret       Paris                3  ...  PARKING      ok\n",
              "\n",
              "[5 rows x 8 columns]"
            ]
          },
          "metadata": {
            "tags": []
          },
          "execution_count": 205
        }
      ]
    },
    {
      "cell_type": "code",
      "metadata": {
        "colab": {
          "base_uri": "https://localhost:8080/",
          "height": 437
        },
        "id": "XCnGXgTxmxVZ",
        "outputId": "8451a487-62b2-4dca-95e1-213cb7b4f387"
      },
      "source": [
        "#create new data set that includes paris only\n",
        "\n",
        "parisdf = (newdf.loc[newdf['city'] == 'Paris'])\n",
        "parisdf"
      ],
      "execution_count": null,
      "outputs": [
        {
          "output_type": "execute_result",
          "data": {
            "text/html": [
              "<div>\n",
              "<style scoped>\n",
              "    .dataframe tbody tr th:only-of-type {\n",
              "        vertical-align: middle;\n",
              "    }\n",
              "\n",
              "    .dataframe tbody tr th {\n",
              "        vertical-align: top;\n",
              "    }\n",
              "\n",
              "    .dataframe thead th {\n",
              "        text-align: right;\n",
              "    }\n",
              "</style>\n",
              "<table border=\"1\" class=\"dataframe\">\n",
              "  <thead>\n",
              "    <tr style=\"text-align: right;\">\n",
              "      <th></th>\n",
              "      <th>city</th>\n",
              "      <th>bluecar_counter</th>\n",
              "      <th>date_time</th>\n",
              "      <th>postal_code</th>\n",
              "      <th>id</th>\n",
              "      <th>slots</th>\n",
              "      <th>kind</th>\n",
              "      <th>status</th>\n",
              "    </tr>\n",
              "    <tr>\n",
              "      <th>Address</th>\n",
              "      <th></th>\n",
              "      <th></th>\n",
              "      <th></th>\n",
              "      <th></th>\n",
              "      <th></th>\n",
              "      <th></th>\n",
              "      <th></th>\n",
              "      <th></th>\n",
              "    </tr>\n",
              "  </thead>\n",
              "  <tbody>\n",
              "    <tr>\n",
              "      <th>2 Avenue de Suffren</th>\n",
              "      <td>Paris</td>\n",
              "      <td>0</td>\n",
              "      <td>2018-04-08 11:43:00</td>\n",
              "      <td>75015</td>\n",
              "      <td>paris-suffren-2</td>\n",
              "      <td>2</td>\n",
              "      <td>STATION</td>\n",
              "      <td>ok</td>\n",
              "    </tr>\n",
              "    <tr>\n",
              "      <th>145 Rue Raymond Losserand</th>\n",
              "      <td>Paris</td>\n",
              "      <td>6</td>\n",
              "      <td>2018-04-06 07:24:00</td>\n",
              "      <td>75014</td>\n",
              "      <td>paris-raymondlosserand-145</td>\n",
              "      <td>0</td>\n",
              "      <td>STATION</td>\n",
              "      <td>ok</td>\n",
              "    </tr>\n",
              "    <tr>\n",
              "      <th>51 Rue EugÃ¨ne OudinÃ©</th>\n",
              "      <td>Paris</td>\n",
              "      <td>3</td>\n",
              "      <td>2018-04-04 04:37:00</td>\n",
              "      <td>75013</td>\n",
              "      <td>paris-eugeneoudine-51</td>\n",
              "      <td>2</td>\n",
              "      <td>STATION</td>\n",
              "      <td>ok</td>\n",
              "    </tr>\n",
              "    <tr>\n",
              "      <th>6 avenue de la Porte de Champerret</th>\n",
              "      <td>Paris</td>\n",
              "      <td>3</td>\n",
              "      <td>2018-04-08 17:23:00</td>\n",
              "      <td>75017</td>\n",
              "      <td>paris-portedechamperret-6</td>\n",
              "      <td>3</td>\n",
              "      <td>PARKING</td>\n",
              "      <td>ok</td>\n",
              "    </tr>\n",
              "    <tr>\n",
              "      <th>8 Boulevard Voltaire</th>\n",
              "      <td>Paris</td>\n",
              "      <td>0</td>\n",
              "      <td>2018-04-06 07:02:00</td>\n",
              "      <td>75011</td>\n",
              "      <td>paris-voltaire-8</td>\n",
              "      <td>4</td>\n",
              "      <td>STATION</td>\n",
              "      <td>ok</td>\n",
              "    </tr>\n",
              "    <tr>\n",
              "      <th>...</th>\n",
              "      <td>...</td>\n",
              "      <td>...</td>\n",
              "      <td>...</td>\n",
              "      <td>...</td>\n",
              "      <td>...</td>\n",
              "      <td>...</td>\n",
              "      <td>...</td>\n",
              "      <td>...</td>\n",
              "    </tr>\n",
              "    <tr>\n",
              "      <th>3 avenue d'Ivry</th>\n",
              "      <td>Paris</td>\n",
              "      <td>0</td>\n",
              "      <td>2018-04-09 23:01:00</td>\n",
              "      <td>75013</td>\n",
              "      <td>paris-ivry-3</td>\n",
              "      <td>6</td>\n",
              "      <td>STATION</td>\n",
              "      <td>ok</td>\n",
              "    </tr>\n",
              "    <tr>\n",
              "      <th>15 rue de Rocroy</th>\n",
              "      <td>Paris</td>\n",
              "      <td>0</td>\n",
              "      <td>2018-04-01 20:49:00</td>\n",
              "      <td>75010</td>\n",
              "      <td>paris-rocroy-15</td>\n",
              "      <td>1</td>\n",
              "      <td>STATION</td>\n",
              "      <td>ok</td>\n",
              "    </tr>\n",
              "    <tr>\n",
              "      <th>37 rue de Dantzig</th>\n",
              "      <td>Paris</td>\n",
              "      <td>4</td>\n",
              "      <td>2018-04-04 16:56:00</td>\n",
              "      <td>75015</td>\n",
              "      <td>paris-dantzig-37</td>\n",
              "      <td>2</td>\n",
              "      <td>STATION</td>\n",
              "      <td>ok</td>\n",
              "    </tr>\n",
              "    <tr>\n",
              "      <th>142 rue du Bac</th>\n",
              "      <td>Paris</td>\n",
              "      <td>1</td>\n",
              "      <td>2018-04-01 07:01:00</td>\n",
              "      <td>75007</td>\n",
              "      <td>paris-bac-142</td>\n",
              "      <td>4</td>\n",
              "      <td>STATION</td>\n",
              "      <td>ok</td>\n",
              "    </tr>\n",
              "    <tr>\n",
              "      <th>5 Rue Henry Brisson</th>\n",
              "      <td>Paris</td>\n",
              "      <td>4</td>\n",
              "      <td>2018-04-08 10:02:00</td>\n",
              "      <td>75018</td>\n",
              "      <td>paris-henrybrisson-5</td>\n",
              "      <td>0</td>\n",
              "      <td>STATION</td>\n",
              "      <td>ok</td>\n",
              "    </tr>\n",
              "  </tbody>\n",
              "</table>\n",
              "<p>2634 rows × 8 columns</p>\n",
              "</div>"
            ],
            "text/plain": [
              "                                     city  bluecar_counter  ...     kind  status\n",
              "Address                                                     ...                 \n",
              "2 Avenue de Suffren                 Paris                0  ...  STATION      ok\n",
              "145 Rue Raymond Losserand           Paris                6  ...  STATION      ok\n",
              "51 Rue EugÃ¨ne OudinÃ©              Paris                3  ...  STATION      ok\n",
              "6 avenue de la Porte de Champerret  Paris                3  ...  PARKING      ok\n",
              "8 Boulevard Voltaire                Paris                0  ...  STATION      ok\n",
              "...                                   ...              ...  ...      ...     ...\n",
              "3 avenue d'Ivry                     Paris                0  ...  STATION      ok\n",
              "15 rue de Rocroy                    Paris                0  ...  STATION      ok\n",
              "37 rue de Dantzig                   Paris                4  ...  STATION      ok\n",
              "142 rue du Bac                      Paris                1  ...  STATION      ok\n",
              "5 Rue Henry Brisson                 Paris                4  ...  STATION      ok\n",
              "\n",
              "[2634 rows x 8 columns]"
            ]
          },
          "metadata": {
            "tags": []
          },
          "execution_count": 206
        }
      ]
    },
    {
      "cell_type": "markdown",
      "metadata": {
        "id": "1bMw4uc2DGY6"
      },
      "source": [
        "**ANSWERING THE QUESTIONS**"
      ]
    },
    {
      "cell_type": "code",
      "metadata": {
        "colab": {
          "base_uri": "https://localhost:8080/",
          "height": 437
        },
        "id": "07HKU7TBn4C0",
        "outputId": "3aeee45f-3952-4bb8-f1dc-e3f8dc0d19dc"
      },
      "source": [
        "#sort by id and date they were returned\n",
        "\n",
        "paris = parisdf.sort_values(['id', 'date_time'],ascending=[True, True])\n",
        "\n",
        "paris"
      ],
      "execution_count": null,
      "outputs": [
        {
          "output_type": "execute_result",
          "data": {
            "text/html": [
              "<div>\n",
              "<style scoped>\n",
              "    .dataframe tbody tr th:only-of-type {\n",
              "        vertical-align: middle;\n",
              "    }\n",
              "\n",
              "    .dataframe tbody tr th {\n",
              "        vertical-align: top;\n",
              "    }\n",
              "\n",
              "    .dataframe thead th {\n",
              "        text-align: right;\n",
              "    }\n",
              "</style>\n",
              "<table border=\"1\" class=\"dataframe\">\n",
              "  <thead>\n",
              "    <tr style=\"text-align: right;\">\n",
              "      <th></th>\n",
              "      <th>city</th>\n",
              "      <th>bluecar_counter</th>\n",
              "      <th>date_time</th>\n",
              "      <th>postal_code</th>\n",
              "      <th>id</th>\n",
              "      <th>slots</th>\n",
              "      <th>kind</th>\n",
              "      <th>status</th>\n",
              "    </tr>\n",
              "    <tr>\n",
              "      <th>Address</th>\n",
              "      <th></th>\n",
              "      <th></th>\n",
              "      <th></th>\n",
              "      <th></th>\n",
              "      <th></th>\n",
              "      <th></th>\n",
              "      <th></th>\n",
              "      <th></th>\n",
              "    </tr>\n",
              "  </thead>\n",
              "  <tbody>\n",
              "    <tr>\n",
              "      <th>8 Place du 25 AoÃ»t 1944</th>\n",
              "      <td>Paris</td>\n",
              "      <td>1</td>\n",
              "      <td>2018-04-01 18:40:00</td>\n",
              "      <td>75014</td>\n",
              "      <td>paris-25aout1944-8</td>\n",
              "      <td>2</td>\n",
              "      <td>STATION</td>\n",
              "      <td>ok</td>\n",
              "    </tr>\n",
              "    <tr>\n",
              "      <th>8 Place du 25 AoÃ»t 1944</th>\n",
              "      <td>Paris</td>\n",
              "      <td>4</td>\n",
              "      <td>2018-04-02 07:37:00</td>\n",
              "      <td>75014</td>\n",
              "      <td>paris-25aout1944-8</td>\n",
              "      <td>0</td>\n",
              "      <td>STATION</td>\n",
              "      <td>ok</td>\n",
              "    </tr>\n",
              "    <tr>\n",
              "      <th>8 Place du 25 AoÃ»t 1944</th>\n",
              "      <td>Paris</td>\n",
              "      <td>2</td>\n",
              "      <td>2018-04-02 12:49:00</td>\n",
              "      <td>75014</td>\n",
              "      <td>paris-25aout1944-8</td>\n",
              "      <td>1</td>\n",
              "      <td>STATION</td>\n",
              "      <td>ok</td>\n",
              "    </tr>\n",
              "    <tr>\n",
              "      <th>8 Place du 25 AoÃ»t 1944</th>\n",
              "      <td>Paris</td>\n",
              "      <td>3</td>\n",
              "      <td>2018-04-04 03:10:00</td>\n",
              "      <td>75014</td>\n",
              "      <td>paris-25aout1944-8</td>\n",
              "      <td>0</td>\n",
              "      <td>STATION</td>\n",
              "      <td>ok</td>\n",
              "    </tr>\n",
              "    <tr>\n",
              "      <th>8 Place du 25 AoÃ»t 1944</th>\n",
              "      <td>Paris</td>\n",
              "      <td>1</td>\n",
              "      <td>2018-04-04 18:48:00</td>\n",
              "      <td>75014</td>\n",
              "      <td>paris-25aout1944-8</td>\n",
              "      <td>1</td>\n",
              "      <td>STATION</td>\n",
              "      <td>ok</td>\n",
              "    </tr>\n",
              "    <tr>\n",
              "      <th>...</th>\n",
              "      <td>...</td>\n",
              "      <td>...</td>\n",
              "      <td>...</td>\n",
              "      <td>...</td>\n",
              "      <td>...</td>\n",
              "      <td>...</td>\n",
              "      <td>...</td>\n",
              "      <td>...</td>\n",
              "    </tr>\n",
              "    <tr>\n",
              "      <th>24 Rue Vulpian</th>\n",
              "      <td>Paris</td>\n",
              "      <td>3</td>\n",
              "      <td>2018-04-08 22:24:00</td>\n",
              "      <td>75013</td>\n",
              "      <td>paris-vulpian-24</td>\n",
              "      <td>2</td>\n",
              "      <td>STATION</td>\n",
              "      <td>ok</td>\n",
              "    </tr>\n",
              "    <tr>\n",
              "      <th>24 Rue Vulpian</th>\n",
              "      <td>Paris</td>\n",
              "      <td>1</td>\n",
              "      <td>2018-04-09 12:58:00</td>\n",
              "      <td>75013</td>\n",
              "      <td>paris-vulpian-24</td>\n",
              "      <td>4</td>\n",
              "      <td>STATION</td>\n",
              "      <td>ok</td>\n",
              "    </tr>\n",
              "    <tr>\n",
              "      <th>24 Rue Vulpian</th>\n",
              "      <td>Paris</td>\n",
              "      <td>2</td>\n",
              "      <td>2018-04-09 23:32:00</td>\n",
              "      <td>75013</td>\n",
              "      <td>paris-vulpian-24</td>\n",
              "      <td>4</td>\n",
              "      <td>STATION</td>\n",
              "      <td>ok</td>\n",
              "    </tr>\n",
              "    <tr>\n",
              "      <th>77 Avenue de Wagram</th>\n",
              "      <td>Paris</td>\n",
              "      <td>0</td>\n",
              "      <td>2018-04-05 20:24:00</td>\n",
              "      <td>75017</td>\n",
              "      <td>paris-wagram-77</td>\n",
              "      <td>0</td>\n",
              "      <td>STATION</td>\n",
              "      <td>ok</td>\n",
              "    </tr>\n",
              "    <tr>\n",
              "      <th>77 Avenue de Wagram</th>\n",
              "      <td>Paris</td>\n",
              "      <td>2</td>\n",
              "      <td>2018-04-06 00:07:00</td>\n",
              "      <td>75017</td>\n",
              "      <td>paris-wagram-77</td>\n",
              "      <td>2</td>\n",
              "      <td>STATION</td>\n",
              "      <td>ok</td>\n",
              "    </tr>\n",
              "  </tbody>\n",
              "</table>\n",
              "<p>2634 rows × 8 columns</p>\n",
              "</div>"
            ],
            "text/plain": [
              "                           city  bluecar_counter  ...     kind  status\n",
              "Address                                           ...                 \n",
              "8 Place du 25 AoÃ»t 1944  Paris                1  ...  STATION      ok\n",
              "8 Place du 25 AoÃ»t 1944  Paris                4  ...  STATION      ok\n",
              "8 Place du 25 AoÃ»t 1944  Paris                2  ...  STATION      ok\n",
              "8 Place du 25 AoÃ»t 1944  Paris                3  ...  STATION      ok\n",
              "8 Place du 25 AoÃ»t 1944  Paris                1  ...  STATION      ok\n",
              "...                         ...              ...  ...      ...     ...\n",
              "24 Rue Vulpian            Paris                3  ...  STATION      ok\n",
              "24 Rue Vulpian            Paris                1  ...  STATION      ok\n",
              "24 Rue Vulpian            Paris                2  ...  STATION      ok\n",
              "77 Avenue de Wagram       Paris                0  ...  STATION      ok\n",
              "77 Avenue de Wagram       Paris                2  ...  STATION      ok\n",
              "\n",
              "[2634 rows x 8 columns]"
            ]
          },
          "metadata": {
            "tags": []
          },
          "execution_count": 207
        }
      ]
    },
    {
      "cell_type": "code",
      "metadata": {
        "colab": {
          "base_uri": "https://localhost:8080/",
          "height": 437
        },
        "id": "Cu72c1t9xgKx",
        "outputId": "f52c4f1f-c47d-473a-fce8-530ab9681352"
      },
      "source": [
        "\n",
        "paris['bluecar_diff'] = paris['bluecar_counter'].diff()\n",
        "paris"
      ],
      "execution_count": null,
      "outputs": [
        {
          "output_type": "execute_result",
          "data": {
            "text/html": [
              "<div>\n",
              "<style scoped>\n",
              "    .dataframe tbody tr th:only-of-type {\n",
              "        vertical-align: middle;\n",
              "    }\n",
              "\n",
              "    .dataframe tbody tr th {\n",
              "        vertical-align: top;\n",
              "    }\n",
              "\n",
              "    .dataframe thead th {\n",
              "        text-align: right;\n",
              "    }\n",
              "</style>\n",
              "<table border=\"1\" class=\"dataframe\">\n",
              "  <thead>\n",
              "    <tr style=\"text-align: right;\">\n",
              "      <th></th>\n",
              "      <th>city</th>\n",
              "      <th>bluecar_counter</th>\n",
              "      <th>date_time</th>\n",
              "      <th>postal_code</th>\n",
              "      <th>id</th>\n",
              "      <th>slots</th>\n",
              "      <th>kind</th>\n",
              "      <th>status</th>\n",
              "      <th>bluecar_diff</th>\n",
              "    </tr>\n",
              "    <tr>\n",
              "      <th>Address</th>\n",
              "      <th></th>\n",
              "      <th></th>\n",
              "      <th></th>\n",
              "      <th></th>\n",
              "      <th></th>\n",
              "      <th></th>\n",
              "      <th></th>\n",
              "      <th></th>\n",
              "      <th></th>\n",
              "    </tr>\n",
              "  </thead>\n",
              "  <tbody>\n",
              "    <tr>\n",
              "      <th>8 Place du 25 AoÃ»t 1944</th>\n",
              "      <td>Paris</td>\n",
              "      <td>1</td>\n",
              "      <td>2018-04-01 18:40:00</td>\n",
              "      <td>75014</td>\n",
              "      <td>paris-25aout1944-8</td>\n",
              "      <td>2</td>\n",
              "      <td>STATION</td>\n",
              "      <td>ok</td>\n",
              "      <td>NaN</td>\n",
              "    </tr>\n",
              "    <tr>\n",
              "      <th>8 Place du 25 AoÃ»t 1944</th>\n",
              "      <td>Paris</td>\n",
              "      <td>4</td>\n",
              "      <td>2018-04-02 07:37:00</td>\n",
              "      <td>75014</td>\n",
              "      <td>paris-25aout1944-8</td>\n",
              "      <td>0</td>\n",
              "      <td>STATION</td>\n",
              "      <td>ok</td>\n",
              "      <td>3.0</td>\n",
              "    </tr>\n",
              "    <tr>\n",
              "      <th>8 Place du 25 AoÃ»t 1944</th>\n",
              "      <td>Paris</td>\n",
              "      <td>2</td>\n",
              "      <td>2018-04-02 12:49:00</td>\n",
              "      <td>75014</td>\n",
              "      <td>paris-25aout1944-8</td>\n",
              "      <td>1</td>\n",
              "      <td>STATION</td>\n",
              "      <td>ok</td>\n",
              "      <td>-2.0</td>\n",
              "    </tr>\n",
              "    <tr>\n",
              "      <th>8 Place du 25 AoÃ»t 1944</th>\n",
              "      <td>Paris</td>\n",
              "      <td>3</td>\n",
              "      <td>2018-04-04 03:10:00</td>\n",
              "      <td>75014</td>\n",
              "      <td>paris-25aout1944-8</td>\n",
              "      <td>0</td>\n",
              "      <td>STATION</td>\n",
              "      <td>ok</td>\n",
              "      <td>1.0</td>\n",
              "    </tr>\n",
              "    <tr>\n",
              "      <th>8 Place du 25 AoÃ»t 1944</th>\n",
              "      <td>Paris</td>\n",
              "      <td>1</td>\n",
              "      <td>2018-04-04 18:48:00</td>\n",
              "      <td>75014</td>\n",
              "      <td>paris-25aout1944-8</td>\n",
              "      <td>1</td>\n",
              "      <td>STATION</td>\n",
              "      <td>ok</td>\n",
              "      <td>-2.0</td>\n",
              "    </tr>\n",
              "    <tr>\n",
              "      <th>...</th>\n",
              "      <td>...</td>\n",
              "      <td>...</td>\n",
              "      <td>...</td>\n",
              "      <td>...</td>\n",
              "      <td>...</td>\n",
              "      <td>...</td>\n",
              "      <td>...</td>\n",
              "      <td>...</td>\n",
              "      <td>...</td>\n",
              "    </tr>\n",
              "    <tr>\n",
              "      <th>24 Rue Vulpian</th>\n",
              "      <td>Paris</td>\n",
              "      <td>3</td>\n",
              "      <td>2018-04-08 22:24:00</td>\n",
              "      <td>75013</td>\n",
              "      <td>paris-vulpian-24</td>\n",
              "      <td>2</td>\n",
              "      <td>STATION</td>\n",
              "      <td>ok</td>\n",
              "      <td>2.0</td>\n",
              "    </tr>\n",
              "    <tr>\n",
              "      <th>24 Rue Vulpian</th>\n",
              "      <td>Paris</td>\n",
              "      <td>1</td>\n",
              "      <td>2018-04-09 12:58:00</td>\n",
              "      <td>75013</td>\n",
              "      <td>paris-vulpian-24</td>\n",
              "      <td>4</td>\n",
              "      <td>STATION</td>\n",
              "      <td>ok</td>\n",
              "      <td>-2.0</td>\n",
              "    </tr>\n",
              "    <tr>\n",
              "      <th>24 Rue Vulpian</th>\n",
              "      <td>Paris</td>\n",
              "      <td>2</td>\n",
              "      <td>2018-04-09 23:32:00</td>\n",
              "      <td>75013</td>\n",
              "      <td>paris-vulpian-24</td>\n",
              "      <td>4</td>\n",
              "      <td>STATION</td>\n",
              "      <td>ok</td>\n",
              "      <td>1.0</td>\n",
              "    </tr>\n",
              "    <tr>\n",
              "      <th>77 Avenue de Wagram</th>\n",
              "      <td>Paris</td>\n",
              "      <td>0</td>\n",
              "      <td>2018-04-05 20:24:00</td>\n",
              "      <td>75017</td>\n",
              "      <td>paris-wagram-77</td>\n",
              "      <td>0</td>\n",
              "      <td>STATION</td>\n",
              "      <td>ok</td>\n",
              "      <td>-2.0</td>\n",
              "    </tr>\n",
              "    <tr>\n",
              "      <th>77 Avenue de Wagram</th>\n",
              "      <td>Paris</td>\n",
              "      <td>2</td>\n",
              "      <td>2018-04-06 00:07:00</td>\n",
              "      <td>75017</td>\n",
              "      <td>paris-wagram-77</td>\n",
              "      <td>2</td>\n",
              "      <td>STATION</td>\n",
              "      <td>ok</td>\n",
              "      <td>2.0</td>\n",
              "    </tr>\n",
              "  </tbody>\n",
              "</table>\n",
              "<p>2634 rows × 9 columns</p>\n",
              "</div>"
            ],
            "text/plain": [
              "                           city  bluecar_counter  ... status  bluecar_diff\n",
              "Address                                           ...                     \n",
              "8 Place du 25 AoÃ»t 1944  Paris                1  ...     ok           NaN\n",
              "8 Place du 25 AoÃ»t 1944  Paris                4  ...     ok           3.0\n",
              "8 Place du 25 AoÃ»t 1944  Paris                2  ...     ok          -2.0\n",
              "8 Place du 25 AoÃ»t 1944  Paris                3  ...     ok           1.0\n",
              "8 Place du 25 AoÃ»t 1944  Paris                1  ...     ok          -2.0\n",
              "...                         ...              ...  ...    ...           ...\n",
              "24 Rue Vulpian            Paris                3  ...     ok           2.0\n",
              "24 Rue Vulpian            Paris                1  ...     ok          -2.0\n",
              "24 Rue Vulpian            Paris                2  ...     ok           1.0\n",
              "77 Avenue de Wagram       Paris                0  ...     ok          -2.0\n",
              "77 Avenue de Wagram       Paris                2  ...     ok           2.0\n",
              "\n",
              "[2634 rows x 9 columns]"
            ]
          },
          "metadata": {
            "tags": []
          },
          "execution_count": 208
        }
      ]
    },
    {
      "cell_type": "code",
      "metadata": {
        "id": "okQRLNxv-1EP"
      },
      "source": [
        "from datetime import *\n",
        "\n",
        "paris['hour'] = paris['date_time'].dt.hour\n"
      ],
      "execution_count": null,
      "outputs": []
    },
    {
      "cell_type": "code",
      "metadata": {
        "colab": {
          "base_uri": "https://localhost:8080/",
          "height": 437
        },
        "id": "Vf9Gef-RBukW",
        "outputId": "b11b6222-0af0-40db-a43d-3edc028eccff"
      },
      "source": [
        "paris"
      ],
      "execution_count": null,
      "outputs": [
        {
          "output_type": "execute_result",
          "data": {
            "text/html": [
              "<div>\n",
              "<style scoped>\n",
              "    .dataframe tbody tr th:only-of-type {\n",
              "        vertical-align: middle;\n",
              "    }\n",
              "\n",
              "    .dataframe tbody tr th {\n",
              "        vertical-align: top;\n",
              "    }\n",
              "\n",
              "    .dataframe thead th {\n",
              "        text-align: right;\n",
              "    }\n",
              "</style>\n",
              "<table border=\"1\" class=\"dataframe\">\n",
              "  <thead>\n",
              "    <tr style=\"text-align: right;\">\n",
              "      <th></th>\n",
              "      <th>city</th>\n",
              "      <th>bluecar_counter</th>\n",
              "      <th>date_time</th>\n",
              "      <th>postal_code</th>\n",
              "      <th>id</th>\n",
              "      <th>slots</th>\n",
              "      <th>kind</th>\n",
              "      <th>status</th>\n",
              "      <th>bluecar_diff</th>\n",
              "      <th>hour</th>\n",
              "    </tr>\n",
              "    <tr>\n",
              "      <th>Address</th>\n",
              "      <th></th>\n",
              "      <th></th>\n",
              "      <th></th>\n",
              "      <th></th>\n",
              "      <th></th>\n",
              "      <th></th>\n",
              "      <th></th>\n",
              "      <th></th>\n",
              "      <th></th>\n",
              "      <th></th>\n",
              "    </tr>\n",
              "  </thead>\n",
              "  <tbody>\n",
              "    <tr>\n",
              "      <th>8 Place du 25 AoÃ»t 1944</th>\n",
              "      <td>Paris</td>\n",
              "      <td>1</td>\n",
              "      <td>2018-04-01 18:40:00</td>\n",
              "      <td>75014</td>\n",
              "      <td>paris-25aout1944-8</td>\n",
              "      <td>2</td>\n",
              "      <td>STATION</td>\n",
              "      <td>ok</td>\n",
              "      <td>NaN</td>\n",
              "      <td>18</td>\n",
              "    </tr>\n",
              "    <tr>\n",
              "      <th>8 Place du 25 AoÃ»t 1944</th>\n",
              "      <td>Paris</td>\n",
              "      <td>4</td>\n",
              "      <td>2018-04-02 07:37:00</td>\n",
              "      <td>75014</td>\n",
              "      <td>paris-25aout1944-8</td>\n",
              "      <td>0</td>\n",
              "      <td>STATION</td>\n",
              "      <td>ok</td>\n",
              "      <td>3.0</td>\n",
              "      <td>7</td>\n",
              "    </tr>\n",
              "    <tr>\n",
              "      <th>8 Place du 25 AoÃ»t 1944</th>\n",
              "      <td>Paris</td>\n",
              "      <td>2</td>\n",
              "      <td>2018-04-02 12:49:00</td>\n",
              "      <td>75014</td>\n",
              "      <td>paris-25aout1944-8</td>\n",
              "      <td>1</td>\n",
              "      <td>STATION</td>\n",
              "      <td>ok</td>\n",
              "      <td>-2.0</td>\n",
              "      <td>12</td>\n",
              "    </tr>\n",
              "    <tr>\n",
              "      <th>8 Place du 25 AoÃ»t 1944</th>\n",
              "      <td>Paris</td>\n",
              "      <td>3</td>\n",
              "      <td>2018-04-04 03:10:00</td>\n",
              "      <td>75014</td>\n",
              "      <td>paris-25aout1944-8</td>\n",
              "      <td>0</td>\n",
              "      <td>STATION</td>\n",
              "      <td>ok</td>\n",
              "      <td>1.0</td>\n",
              "      <td>3</td>\n",
              "    </tr>\n",
              "    <tr>\n",
              "      <th>8 Place du 25 AoÃ»t 1944</th>\n",
              "      <td>Paris</td>\n",
              "      <td>1</td>\n",
              "      <td>2018-04-04 18:48:00</td>\n",
              "      <td>75014</td>\n",
              "      <td>paris-25aout1944-8</td>\n",
              "      <td>1</td>\n",
              "      <td>STATION</td>\n",
              "      <td>ok</td>\n",
              "      <td>-2.0</td>\n",
              "      <td>18</td>\n",
              "    </tr>\n",
              "    <tr>\n",
              "      <th>...</th>\n",
              "      <td>...</td>\n",
              "      <td>...</td>\n",
              "      <td>...</td>\n",
              "      <td>...</td>\n",
              "      <td>...</td>\n",
              "      <td>...</td>\n",
              "      <td>...</td>\n",
              "      <td>...</td>\n",
              "      <td>...</td>\n",
              "      <td>...</td>\n",
              "    </tr>\n",
              "    <tr>\n",
              "      <th>24 Rue Vulpian</th>\n",
              "      <td>Paris</td>\n",
              "      <td>3</td>\n",
              "      <td>2018-04-08 22:24:00</td>\n",
              "      <td>75013</td>\n",
              "      <td>paris-vulpian-24</td>\n",
              "      <td>2</td>\n",
              "      <td>STATION</td>\n",
              "      <td>ok</td>\n",
              "      <td>2.0</td>\n",
              "      <td>22</td>\n",
              "    </tr>\n",
              "    <tr>\n",
              "      <th>24 Rue Vulpian</th>\n",
              "      <td>Paris</td>\n",
              "      <td>1</td>\n",
              "      <td>2018-04-09 12:58:00</td>\n",
              "      <td>75013</td>\n",
              "      <td>paris-vulpian-24</td>\n",
              "      <td>4</td>\n",
              "      <td>STATION</td>\n",
              "      <td>ok</td>\n",
              "      <td>-2.0</td>\n",
              "      <td>12</td>\n",
              "    </tr>\n",
              "    <tr>\n",
              "      <th>24 Rue Vulpian</th>\n",
              "      <td>Paris</td>\n",
              "      <td>2</td>\n",
              "      <td>2018-04-09 23:32:00</td>\n",
              "      <td>75013</td>\n",
              "      <td>paris-vulpian-24</td>\n",
              "      <td>4</td>\n",
              "      <td>STATION</td>\n",
              "      <td>ok</td>\n",
              "      <td>1.0</td>\n",
              "      <td>23</td>\n",
              "    </tr>\n",
              "    <tr>\n",
              "      <th>77 Avenue de Wagram</th>\n",
              "      <td>Paris</td>\n",
              "      <td>0</td>\n",
              "      <td>2018-04-05 20:24:00</td>\n",
              "      <td>75017</td>\n",
              "      <td>paris-wagram-77</td>\n",
              "      <td>0</td>\n",
              "      <td>STATION</td>\n",
              "      <td>ok</td>\n",
              "      <td>-2.0</td>\n",
              "      <td>20</td>\n",
              "    </tr>\n",
              "    <tr>\n",
              "      <th>77 Avenue de Wagram</th>\n",
              "      <td>Paris</td>\n",
              "      <td>2</td>\n",
              "      <td>2018-04-06 00:07:00</td>\n",
              "      <td>75017</td>\n",
              "      <td>paris-wagram-77</td>\n",
              "      <td>2</td>\n",
              "      <td>STATION</td>\n",
              "      <td>ok</td>\n",
              "      <td>2.0</td>\n",
              "      <td>0</td>\n",
              "    </tr>\n",
              "  </tbody>\n",
              "</table>\n",
              "<p>2634 rows × 10 columns</p>\n",
              "</div>"
            ],
            "text/plain": [
              "                           city  bluecar_counter  ... bluecar_diff  hour\n",
              "Address                                           ...                   \n",
              "8 Place du 25 AoÃ»t 1944  Paris                1  ...          NaN    18\n",
              "8 Place du 25 AoÃ»t 1944  Paris                4  ...          3.0     7\n",
              "8 Place du 25 AoÃ»t 1944  Paris                2  ...         -2.0    12\n",
              "8 Place du 25 AoÃ»t 1944  Paris                3  ...          1.0     3\n",
              "8 Place du 25 AoÃ»t 1944  Paris                1  ...         -2.0    18\n",
              "...                         ...              ...  ...          ...   ...\n",
              "24 Rue Vulpian            Paris                3  ...          2.0    22\n",
              "24 Rue Vulpian            Paris                1  ...         -2.0    12\n",
              "24 Rue Vulpian            Paris                2  ...          1.0    23\n",
              "77 Avenue de Wagram       Paris                0  ...         -2.0    20\n",
              "77 Avenue de Wagram       Paris                2  ...          2.0     0\n",
              "\n",
              "[2634 rows x 10 columns]"
            ]
          },
          "metadata": {
            "tags": []
          },
          "execution_count": 210
        }
      ]
    },
    {
      "cell_type": "code",
      "metadata": {
        "colab": {
          "base_uri": "https://localhost:8080/"
        },
        "id": "2fBLmfU700y1",
        "outputId": "e5c829ff-b4f1-4cde-fb1e-5d85d3d46e98"
      },
      "source": [
        "#Hour most cars were picked\n",
        "paris[paris['bluecar_diff'] < 0].groupby('hour')['hour'].count().sort_values(ascending= False).head(1)"
      ],
      "execution_count": null,
      "outputs": [
        {
          "output_type": "execute_result",
          "data": {
            "text/plain": [
              "hour\n",
              "21    50\n",
              "Name: hour, dtype: int64"
            ]
          },
          "metadata": {
            "tags": []
          },
          "execution_count": 211
        }
      ]
    },
    {
      "cell_type": "code",
      "metadata": {
        "colab": {
          "base_uri": "https://localhost:8080/"
        },
        "id": "rHiCUxZ27MaK",
        "outputId": "669af324-a05c-41a6-ee7b-2c1442de960b"
      },
      "source": [
        "#Hour most cars were returned\n",
        "paris[paris['bluecar_diff'] > 0].groupby('hour')['hour'].count().sort_values(ascending= False).head(1)\n"
      ],
      "execution_count": null,
      "outputs": [
        {
          "output_type": "execute_result",
          "data": {
            "text/plain": [
              "hour\n",
              "9    56\n",
              "Name: hour, dtype: int64"
            ]
          },
          "metadata": {
            "tags": []
          },
          "execution_count": 212
        }
      ]
    },
    {
      "cell_type": "code",
      "metadata": {
        "colab": {
          "base_uri": "https://localhost:8080/"
        },
        "id": "QAQw-X6ADJ57",
        "outputId": "8676345c-bbe7-44ba-ac8c-4c52968525fa"
      },
      "source": [
        "#what station is the most popular\n",
        "paris[(paris['kind'] == 'STATION') & (paris['status'] == 'ok')].groupby('id')['id'].count().sort_values(ascending= False).head(1)"
      ],
      "execution_count": null,
      "outputs": [
        {
          "output_type": "execute_result",
          "data": {
            "text/plain": [
              "id\n",
              "paris-portedemontrouge-8    13\n",
              "Name: id, dtype: int64"
            ]
          },
          "metadata": {
            "tags": []
          },
          "execution_count": 217
        }
      ]
    },
    {
      "cell_type": "code",
      "metadata": {
        "colab": {
          "base_uri": "https://localhost:8080/"
        },
        "id": "CnhWIvF2EVT_",
        "outputId": "d49b3404-efe1-4941-f600-08a2b21502ed"
      },
      "source": [
        "#most popular for picking up electric cars? Does the most popular station belong to that postal code?\n",
        "\n",
        "paris[(paris['kind'] == 'STATION') & (paris['status'] == 'ok')].groupby('postal_code')['postal_code'].count().sort_values(ascending= False).head(1)\n"
      ],
      "execution_count": null,
      "outputs": [
        {
          "output_type": "execute_result",
          "data": {
            "text/plain": [
              "postal_code\n",
              "75015    220\n",
              "Name: postal_code, dtype: int64"
            ]
          },
          "metadata": {
            "tags": []
          },
          "execution_count": 220
        }
      ]
    },
    {
      "cell_type": "code",
      "metadata": {
        "colab": {
          "base_uri": "https://localhost:8080/"
        },
        "id": "WYhkp0XOGt7V",
        "outputId": "8f4e072f-2a87-4e42-eaf7-c6580c6b8eb1"
      },
      "source": [
        "#Does the most popular station belong to that postal code?\n",
        "paris.loc[(paris['postal_code'] == 75015) & (paris['id'] == 'paris-portedemontrouge-8')]\n",
        "print(\"judging by the output, it doesn't\")"
      ],
      "execution_count": null,
      "outputs": [
        {
          "output_type": "stream",
          "text": [
            "judging by the output, it doesn't\n"
          ],
          "name": "stdout"
        }
      ]
    },
    {
      "cell_type": "code",
      "metadata": {
        "id": "G31-OkUxHK3X"
      },
      "source": [
        ""
      ],
      "execution_count": null,
      "outputs": []
    }
  ]
}